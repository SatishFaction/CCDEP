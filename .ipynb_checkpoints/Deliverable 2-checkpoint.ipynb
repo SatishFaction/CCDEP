{
 "cells": [
  {
   "cell_type": "markdown",
   "metadata": {},
   "source": [
    "# Statistical Analysis and Data Visualization"
   ]
  },
  {
   "cell_type": "code",
   "execution_count": 44,
   "metadata": {},
   "outputs": [],
   "source": [
    "#Importing the neccessary packages\n",
    "import pandas as pd\n",
    "import numpy as np"
   ]
  },
  {
   "cell_type": "code",
   "execution_count": 45,
   "metadata": {},
   "outputs": [],
   "source": [
    "#Reading the population by county data\n",
    "county_pop=pd.read_csv(\"Population_by_Age_and_Sex_-_Counties.csv\")"
   ]
  },
  {
   "cell_type": "code",
   "execution_count": 48,
   "metadata": {},
   "outputs": [],
   "source": [
    "#Renaming the county population column\n",
    "county_pop=county_pop.rename(columns={\"B01001_001E\": \"County_Population\"})"
   ]
  },
  {
   "cell_type": "code",
   "execution_count": 51,
   "metadata": {},
   "outputs": [
    {
     "data": {
      "text/html": [
       "<div>\n",
       "<style scoped>\n",
       "    .dataframe tbody tr th:only-of-type {\n",
       "        vertical-align: middle;\n",
       "    }\n",
       "\n",
       "    .dataframe tbody tr th {\n",
       "        vertical-align: top;\n",
       "    }\n",
       "\n",
       "    .dataframe thead th {\n",
       "        text-align: right;\n",
       "    }\n",
       "</style>\n",
       "<table border=\"1\" class=\"dataframe\">\n",
       "  <thead>\n",
       "    <tr style=\"text-align: right;\">\n",
       "      <th></th>\n",
       "      <th>OBJECTID</th>\n",
       "      <th>GEO_ID</th>\n",
       "      <th>GEO_NAME</th>\n",
       "      <th>GEO_PARENT_NAME</th>\n",
       "      <th>County_Population</th>\n",
       "      <th>STABREV</th>\n",
       "      <th>B01001_002E</th>\n",
       "      <th>B01001_002M</th>\n",
       "      <th>B01001_003E</th>\n",
       "      <th>B01001_003M</th>\n",
       "      <th>...</th>\n",
       "      <th>DP05_0025E</th>\n",
       "      <th>DP05_0025M</th>\n",
       "      <th>DP05_0029E</th>\n",
       "      <th>DP05_0029M</th>\n",
       "      <th>DP05_0030E</th>\n",
       "      <th>DP05_0030M</th>\n",
       "      <th>DP05_0031E</th>\n",
       "      <th>DP05_0031M</th>\n",
       "      <th>POPDEPE_CALC</th>\n",
       "      <th>POPDEPM_CALC</th>\n",
       "    </tr>\n",
       "  </thead>\n",
       "  <tbody>\n",
       "    <tr>\n",
       "      <th>0</th>\n",
       "      <td>1</td>\n",
       "      <td>0500000US01001</td>\n",
       "      <td>Autauga County, AL</td>\n",
       "      <td>Alabama</td>\n",
       "      <td>55200</td>\n",
       "      <td>AL</td>\n",
       "      <td>26874</td>\n",
       "      <td>147.0</td>\n",
       "      <td>1789</td>\n",
       "      <td>141.0</td>\n",
       "      <td>...</td>\n",
       "      <td>41831</td>\n",
       "      <td>32.0</td>\n",
       "      <td>8050</td>\n",
       "      <td>75.0</td>\n",
       "      <td>3488</td>\n",
       "      <td>30.0</td>\n",
       "      <td>4562</td>\n",
       "      <td>65.0</td>\n",
       "      <td>21419.0</td>\n",
       "      <td>82.0</td>\n",
       "    </tr>\n",
       "    <tr>\n",
       "      <th>1</th>\n",
       "      <td>2</td>\n",
       "      <td>0500000US01003</td>\n",
       "      <td>Baldwin County, AL</td>\n",
       "      <td>Alabama</td>\n",
       "      <td>208107</td>\n",
       "      <td>AL</td>\n",
       "      <td>101188</td>\n",
       "      <td>242.0</td>\n",
       "      <td>5855</td>\n",
       "      <td>84.0</td>\n",
       "      <td>...</td>\n",
       "      <td>162430</td>\n",
       "      <td>NaN</td>\n",
       "      <td>40665</td>\n",
       "      <td>69.0</td>\n",
       "      <td>18870</td>\n",
       "      <td>40.0</td>\n",
       "      <td>21795</td>\n",
       "      <td>56.0</td>\n",
       "      <td>86342.0</td>\n",
       "      <td>NaN</td>\n",
       "    </tr>\n",
       "  </tbody>\n",
       "</table>\n",
       "<p>2 rows × 126 columns</p>\n",
       "</div>"
      ],
      "text/plain": [
       "   OBJECTID          GEO_ID            GEO_NAME GEO_PARENT_NAME  \\\n",
       "0         1  0500000US01001  Autauga County, AL         Alabama   \n",
       "1         2  0500000US01003  Baldwin County, AL         Alabama   \n",
       "\n",
       "   County_Population STABREV  B01001_002E  B01001_002M  B01001_003E  \\\n",
       "0              55200      AL        26874        147.0         1789   \n",
       "1             208107      AL       101188        242.0         5855   \n",
       "\n",
       "   B01001_003M  ...  DP05_0025E  DP05_0025M  DP05_0029E  DP05_0029M  \\\n",
       "0        141.0  ...       41831        32.0        8050        75.0   \n",
       "1         84.0  ...      162430         NaN       40665        69.0   \n",
       "\n",
       "   DP05_0030E  DP05_0030M  DP05_0031E  DP05_0031M  POPDEPE_CALC  POPDEPM_CALC  \n",
       "0        3488        30.0        4562        65.0       21419.0          82.0  \n",
       "1       18870        40.0       21795        56.0       86342.0           NaN  \n",
       "\n",
       "[2 rows x 126 columns]"
      ]
     },
     "execution_count": 51,
     "metadata": {},
     "output_type": "execute_result"
    }
   ],
   "source": [
    "county_pop.head(2)"
   ]
  },
  {
   "cell_type": "code",
   "execution_count": 50,
   "metadata": {},
   "outputs": [],
   "source": [
    "#Adding a new column for joining with the other table\n",
    "county_pop[\"GEO_NAME\"]=county_pop[\"GEO_NAME\"]+', '+county_pop[\"STABREV\"]"
   ]
  },
  {
   "cell_type": "code",
   "execution_count": 53,
   "metadata": {},
   "outputs": [],
   "source": [
    "#Subsetting county name and county population from the data\n",
    "County_subset=county_pop[['GEO_NAME','County_Population']]"
   ]
  },
  {
   "cell_type": "code",
   "execution_count": 54,
   "metadata": {},
   "outputs": [
    {
     "data": {
      "text/html": [
       "<div>\n",
       "<style scoped>\n",
       "    .dataframe tbody tr th:only-of-type {\n",
       "        vertical-align: middle;\n",
       "    }\n",
       "\n",
       "    .dataframe tbody tr th {\n",
       "        vertical-align: top;\n",
       "    }\n",
       "\n",
       "    .dataframe thead th {\n",
       "        text-align: right;\n",
       "    }\n",
       "</style>\n",
       "<table border=\"1\" class=\"dataframe\">\n",
       "  <thead>\n",
       "    <tr style=\"text-align: right;\">\n",
       "      <th></th>\n",
       "      <th>GEO_NAME</th>\n",
       "      <th>County_Population</th>\n",
       "    </tr>\n",
       "  </thead>\n",
       "  <tbody>\n",
       "    <tr>\n",
       "      <th>0</th>\n",
       "      <td>Autauga County, AL</td>\n",
       "      <td>55200</td>\n",
       "    </tr>\n",
       "  </tbody>\n",
       "</table>\n",
       "</div>"
      ],
      "text/plain": [
       "             GEO_NAME  County_Population\n",
       "0  Autauga County, AL              55200"
      ]
     },
     "execution_count": 54,
     "metadata": {},
     "output_type": "execute_result"
    }
   ],
   "source": [
    "County_subset.head(1)"
   ]
  },
  {
   "cell_type": "code",
   "execution_count": 55,
   "metadata": {},
   "outputs": [],
   "source": [
    "#County_subset.to_csv(\"county_subset.csv\")"
   ]
  },
  {
   "cell_type": "code",
   "execution_count": 56,
   "metadata": {},
   "outputs": [],
   "source": [
    "#Reading the race and ethnicity by county data\n",
    "county_eth=pd.read_csv(\"Race_and_Ethnicity_-_County.csv\")"
   ]
  },
  {
   "cell_type": "code",
   "execution_count": 57,
   "metadata": {},
   "outputs": [
    {
     "data": {
      "text/plain": [
       "Index(['OBJECTID', 'GEO_ID', 'GEO_NAME', 'GEO_PARENT_NAME', 'STABREV',\n",
       "       'FIPS_CODE', 'B02001_002E', 'B02001_002M', 'B02001_003E', 'B02001_003M',\n",
       "       'B02001_004E', 'B02001_004M', 'B02001_005E', 'B02001_005M',\n",
       "       'B02001_006E', 'B02001_006M', 'B02001_007E', 'B02001_007M',\n",
       "       'B02001_008E', 'B02001_008M', 'B03001_002E', 'B03001_002M',\n",
       "       'B03001_003E', 'B03001_003M'],\n",
       "      dtype='object')"
      ]
     },
     "execution_count": 57,
     "metadata": {},
     "output_type": "execute_result"
    }
   ],
   "source": [
    "county_eth.columns"
   ]
  },
  {
   "cell_type": "code",
   "execution_count": 58,
   "metadata": {},
   "outputs": [],
   "source": [
    "#Dropping unwanted columns\n",
    "county_eth=county_eth.drop(['OBJECTID','GEO_ID','FIPS_CODE','B02001_002M','B02001_003M','B02001_004M','B02001_005M','B02001_006M','B02001_007M','B02001_008M','B03001_002M','B03001_003M'],axis=1)"
   ]
  },
  {
   "cell_type": "code",
   "execution_count": 59,
   "metadata": {},
   "outputs": [],
   "source": [
    "#Renaming the relevant columns\n",
    "county_eth=county_eth.rename(columns={\"B02001_002E\": \"White alone_Total\", \"B02001_003E\": \"Black or African American alone_Total\",\"B02001_004E\": \"American Indian and Alaska Native alone_Total\",\"B02001_005E\": \"Asian alone_Total\",\"B02001_006E\": \"Native Hawaiian and Other Pacific Islander alone_Total\"})"
   ]
  },
  {
   "cell_type": "code",
   "execution_count": 62,
   "metadata": {},
   "outputs": [
    {
     "data": {
      "text/html": [
       "<div>\n",
       "<style scoped>\n",
       "    .dataframe tbody tr th:only-of-type {\n",
       "        vertical-align: middle;\n",
       "    }\n",
       "\n",
       "    .dataframe tbody tr th {\n",
       "        vertical-align: top;\n",
       "    }\n",
       "\n",
       "    .dataframe thead th {\n",
       "        text-align: right;\n",
       "    }\n",
       "</style>\n",
       "<table border=\"1\" class=\"dataframe\">\n",
       "  <thead>\n",
       "    <tr style=\"text-align: right;\">\n",
       "      <th></th>\n",
       "      <th>GEO_NAME</th>\n",
       "      <th>GEO_PARENT_NAME</th>\n",
       "      <th>STABREV</th>\n",
       "      <th>White alone_Total</th>\n",
       "      <th>Black or African American alone_Total</th>\n",
       "      <th>American Indian and Alaska Native alone_Total</th>\n",
       "      <th>Asian alone_Total</th>\n",
       "      <th>Native Hawaiian and Other Pacific Islander alone_Total</th>\n",
       "      <th>Some other race alone_tot</th>\n",
       "      <th>Two or more races_tot</th>\n",
       "      <th>Not_Hispanic_or_latino</th>\n",
       "      <th>Hispanic_or_latin_tot</th>\n",
       "    </tr>\n",
       "  </thead>\n",
       "  <tbody>\n",
       "    <tr>\n",
       "      <th>0</th>\n",
       "      <td>Autauga County</td>\n",
       "      <td>Alabama</td>\n",
       "      <td>AL</td>\n",
       "      <td>42437</td>\n",
       "      <td>10565</td>\n",
       "      <td>159</td>\n",
       "      <td>568</td>\n",
       "      <td>32</td>\n",
       "      <td>409</td>\n",
       "      <td>1030</td>\n",
       "      <td>53672</td>\n",
       "      <td>1528</td>\n",
       "    </tr>\n",
       "    <tr>\n",
       "      <th>1</th>\n",
       "      <td>Baldwin County</td>\n",
       "      <td>Alabama</td>\n",
       "      <td>AL</td>\n",
       "      <td>179526</td>\n",
       "      <td>19764</td>\n",
       "      <td>1522</td>\n",
       "      <td>1680</td>\n",
       "      <td>9</td>\n",
       "      <td>2034</td>\n",
       "      <td>3572</td>\n",
       "      <td>198754</td>\n",
       "      <td>9353</td>\n",
       "    </tr>\n",
       "  </tbody>\n",
       "</table>\n",
       "</div>"
      ],
      "text/plain": [
       "         GEO_NAME GEO_PARENT_NAME STABREV  White alone_Total  \\\n",
       "0  Autauga County         Alabama      AL              42437   \n",
       "1  Baldwin County         Alabama      AL             179526   \n",
       "\n",
       "   Black or African American alone_Total  \\\n",
       "0                                  10565   \n",
       "1                                  19764   \n",
       "\n",
       "   American Indian and Alaska Native alone_Total  Asian alone_Total  \\\n",
       "0                                            159                568   \n",
       "1                                           1522               1680   \n",
       "\n",
       "   Native Hawaiian and Other Pacific Islander alone_Total  \\\n",
       "0                                                 32        \n",
       "1                                                  9        \n",
       "\n",
       "   Some other race alone_tot  Two or more races_tot  Not_Hispanic_or_latino  \\\n",
       "0                        409                   1030                   53672   \n",
       "1                       2034                   3572                  198754   \n",
       "\n",
       "   Hispanic_or_latin_tot  \n",
       "0                   1528  \n",
       "1                   9353  "
      ]
     },
     "execution_count": 62,
     "metadata": {},
     "output_type": "execute_result"
    }
   ],
   "source": [
    "county_eth.head(2)"
   ]
  },
  {
   "cell_type": "code",
   "execution_count": 61,
   "metadata": {},
   "outputs": [],
   "source": [
    "#renaming\n",
    "county_eth=county_eth.rename(columns={\"B02001_007E\": \"Some other race alone_tot\",\"B02001_008E\": \"Two or more races_tot\",\"B03001_002E\": \"Not_Hispanic_or_latino\",\"B03001_003E\": \"Hispanic_or_latin_tot\"})"
   ]
  },
  {
   "cell_type": "code",
   "execution_count": 63,
   "metadata": {},
   "outputs": [],
   "source": [
    "#Modifying column for joining data\n",
    "county_eth[\"GEO_NAME\"]=county_eth[\"GEO_NAME\"]+', '+county_eth[\"STABREV\"]"
   ]
  },
  {
   "cell_type": "code",
   "execution_count": 64,
   "metadata": {},
   "outputs": [],
   "source": [
    "#subsetting the american indian population data\n",
    "am_ind=county_eth[['GEO_NAME','American Indian and Alaska Native alone_Total']]"
   ]
  },
  {
   "cell_type": "code",
   "execution_count": 65,
   "metadata": {},
   "outputs": [
    {
     "data": {
      "text/html": [
       "<div>\n",
       "<style scoped>\n",
       "    .dataframe tbody tr th:only-of-type {\n",
       "        vertical-align: middle;\n",
       "    }\n",
       "\n",
       "    .dataframe tbody tr th {\n",
       "        vertical-align: top;\n",
       "    }\n",
       "\n",
       "    .dataframe thead th {\n",
       "        text-align: right;\n",
       "    }\n",
       "</style>\n",
       "<table border=\"1\" class=\"dataframe\">\n",
       "  <thead>\n",
       "    <tr style=\"text-align: right;\">\n",
       "      <th></th>\n",
       "      <th>GEO_NAME</th>\n",
       "      <th>American Indian and Alaska Native alone_Total</th>\n",
       "    </tr>\n",
       "  </thead>\n",
       "  <tbody>\n",
       "    <tr>\n",
       "      <th>0</th>\n",
       "      <td>Autauga County, AL</td>\n",
       "      <td>159</td>\n",
       "    </tr>\n",
       "  </tbody>\n",
       "</table>\n",
       "</div>"
      ],
      "text/plain": [
       "             GEO_NAME  American Indian and Alaska Native alone_Total\n",
       "0  Autauga County, AL                                            159"
      ]
     },
     "execution_count": 65,
     "metadata": {},
     "output_type": "execute_result"
    }
   ],
   "source": [
    "am_ind.head(1)"
   ]
  },
  {
   "cell_type": "code",
   "execution_count": 66,
   "metadata": {},
   "outputs": [],
   "source": [
    "#Joining county_population and race and ethnicity data\n",
    "F_D=County_subset.join(am_ind.set_index('GEO_NAME'), on='GEO_NAME')"
   ]
  },
  {
   "cell_type": "code",
   "execution_count": 68,
   "metadata": {},
   "outputs": [
    {
     "data": {
      "text/html": [
       "<div>\n",
       "<style scoped>\n",
       "    .dataframe tbody tr th:only-of-type {\n",
       "        vertical-align: middle;\n",
       "    }\n",
       "\n",
       "    .dataframe tbody tr th {\n",
       "        vertical-align: top;\n",
       "    }\n",
       "\n",
       "    .dataframe thead th {\n",
       "        text-align: right;\n",
       "    }\n",
       "</style>\n",
       "<table border=\"1\" class=\"dataframe\">\n",
       "  <thead>\n",
       "    <tr style=\"text-align: right;\">\n",
       "      <th></th>\n",
       "      <th>GEO_NAME</th>\n",
       "      <th>County_Population</th>\n",
       "      <th>American Indian and Alaska Native alone_Total</th>\n",
       "    </tr>\n",
       "  </thead>\n",
       "  <tbody>\n",
       "    <tr>\n",
       "      <th>0</th>\n",
       "      <td>Autauga County, AL</td>\n",
       "      <td>55200</td>\n",
       "      <td>159</td>\n",
       "    </tr>\n",
       "  </tbody>\n",
       "</table>\n",
       "</div>"
      ],
      "text/plain": [
       "             GEO_NAME  County_Population  \\\n",
       "0  Autauga County, AL              55200   \n",
       "\n",
       "   American Indian and Alaska Native alone_Total  \n",
       "0                                            159  "
      ]
     },
     "execution_count": 68,
     "metadata": {},
     "output_type": "execute_result"
    }
   ],
   "source": [
    "F_D.head(1)"
   ]
  },
  {
   "cell_type": "code",
   "execution_count": 69,
   "metadata": {},
   "outputs": [],
   "source": [
    "#Calculating percentage of american indian in each county\n",
    "F_D[\"percentage_AM\"]=F_D['American Indian and Alaska Native alone_Total']/F_D['County_Population']*100"
   ]
  },
  {
   "cell_type": "code",
   "execution_count": 70,
   "metadata": {},
   "outputs": [
    {
     "data": {
      "text/html": [
       "<div>\n",
       "<style scoped>\n",
       "    .dataframe tbody tr th:only-of-type {\n",
       "        vertical-align: middle;\n",
       "    }\n",
       "\n",
       "    .dataframe tbody tr th {\n",
       "        vertical-align: top;\n",
       "    }\n",
       "\n",
       "    .dataframe thead th {\n",
       "        text-align: right;\n",
       "    }\n",
       "</style>\n",
       "<table border=\"1\" class=\"dataframe\">\n",
       "  <thead>\n",
       "    <tr style=\"text-align: right;\">\n",
       "      <th></th>\n",
       "      <th>GEO_NAME</th>\n",
       "      <th>County_Population</th>\n",
       "      <th>American Indian and Alaska Native alone_Total</th>\n",
       "      <th>percentage_AM</th>\n",
       "    </tr>\n",
       "  </thead>\n",
       "  <tbody>\n",
       "    <tr>\n",
       "      <th>0</th>\n",
       "      <td>Autauga County, AL</td>\n",
       "      <td>55200</td>\n",
       "      <td>159</td>\n",
       "      <td>0.288043</td>\n",
       "    </tr>\n",
       "  </tbody>\n",
       "</table>\n",
       "</div>"
      ],
      "text/plain": [
       "             GEO_NAME  County_Population  \\\n",
       "0  Autauga County, AL              55200   \n",
       "\n",
       "   American Indian and Alaska Native alone_Total  percentage_AM  \n",
       "0                                            159       0.288043  "
      ]
     },
     "execution_count": 70,
     "metadata": {},
     "output_type": "execute_result"
    }
   ],
   "source": [
    "F_D.head(1)"
   ]
  },
  {
   "cell_type": "markdown",
   "metadata": {},
   "source": [
    "Which county has the largest American Indian and Alaska Native population in terms of percentage of the total population?"
   ]
  },
  {
   "cell_type": "code",
   "execution_count": 71,
   "metadata": {},
   "outputs": [
    {
     "data": {
      "text/html": [
       "<div>\n",
       "<style scoped>\n",
       "    .dataframe tbody tr th:only-of-type {\n",
       "        vertical-align: middle;\n",
       "    }\n",
       "\n",
       "    .dataframe tbody tr th {\n",
       "        vertical-align: top;\n",
       "    }\n",
       "\n",
       "    .dataframe thead th {\n",
       "        text-align: right;\n",
       "    }\n",
       "</style>\n",
       "<table border=\"1\" class=\"dataframe\">\n",
       "  <thead>\n",
       "    <tr style=\"text-align: right;\">\n",
       "      <th></th>\n",
       "      <th>GEO_NAME</th>\n",
       "      <th>County_Population</th>\n",
       "      <th>American Indian and Alaska Native alone_Total</th>\n",
       "      <th>percentage_AM</th>\n",
       "    </tr>\n",
       "  </thead>\n",
       "  <tbody>\n",
       "    <tr>\n",
       "      <th>2411</th>\n",
       "      <td>Oglala Lakota County, SD</td>\n",
       "      <td>14335</td>\n",
       "      <td>13257</td>\n",
       "      <td>92.479944</td>\n",
       "    </tr>\n",
       "  </tbody>\n",
       "</table>\n",
       "</div>"
      ],
      "text/plain": [
       "                      GEO_NAME  County_Population  \\\n",
       "2411  Oglala Lakota County, SD              14335   \n",
       "\n",
       "      American Indian and Alaska Native alone_Total  percentage_AM  \n",
       "2411                                          13257      92.479944  "
      ]
     },
     "execution_count": 71,
     "metadata": {},
     "output_type": "execute_result"
    }
   ],
   "source": [
    "#sorting the data to get the county with highest american indian population percentage\n",
    "F_D.sort_values(by='percentage_AM', ascending=False).head(1)"
   ]
  },
  {
   "cell_type": "code",
   "execution_count": null,
   "metadata": {},
   "outputs": [],
   "source": []
  },
  {
   "cell_type": "code",
   "execution_count": 72,
   "metadata": {},
   "outputs": [
    {
     "data": {
      "text/html": [
       "<div>\n",
       "<style scoped>\n",
       "    .dataframe tbody tr th:only-of-type {\n",
       "        vertical-align: middle;\n",
       "    }\n",
       "\n",
       "    .dataframe tbody tr th {\n",
       "        vertical-align: top;\n",
       "    }\n",
       "\n",
       "    .dataframe thead th {\n",
       "        text-align: right;\n",
       "    }\n",
       "</style>\n",
       "<table border=\"1\" class=\"dataframe\">\n",
       "  <thead>\n",
       "    <tr style=\"text-align: right;\">\n",
       "      <th></th>\n",
       "      <th>GEO_NAME</th>\n",
       "      <th>County_Population</th>\n",
       "    </tr>\n",
       "  </thead>\n",
       "  <tbody>\n",
       "    <tr>\n",
       "      <th>0</th>\n",
       "      <td>Autauga County, AL</td>\n",
       "      <td>55200</td>\n",
       "    </tr>\n",
       "  </tbody>\n",
       "</table>\n",
       "</div>"
      ],
      "text/plain": [
       "             GEO_NAME  County_Population\n",
       "0  Autauga County, AL              55200"
      ]
     },
     "execution_count": 72,
     "metadata": {},
     "output_type": "execute_result"
    }
   ],
   "source": [
    "County_subset.head(1)"
   ]
  },
  {
   "cell_type": "code",
   "execution_count": 79,
   "metadata": {},
   "outputs": [
    {
     "data": {
      "text/html": [
       "<div>\n",
       "<style scoped>\n",
       "    .dataframe tbody tr th:only-of-type {\n",
       "        vertical-align: middle;\n",
       "    }\n",
       "\n",
       "    .dataframe tbody tr th {\n",
       "        vertical-align: top;\n",
       "    }\n",
       "\n",
       "    .dataframe thead th {\n",
       "        text-align: right;\n",
       "    }\n",
       "</style>\n",
       "<table border=\"1\" class=\"dataframe\">\n",
       "  <thead>\n",
       "    <tr style=\"text-align: right;\">\n",
       "      <th></th>\n",
       "      <th>GEO_NAME</th>\n",
       "      <th>GEO_PARENT_NAME</th>\n",
       "      <th>STABREV</th>\n",
       "      <th>White alone_Total</th>\n",
       "      <th>Black or African American alone_Total</th>\n",
       "      <th>American Indian and Alaska Native alone_Total</th>\n",
       "      <th>Asian alone_Total</th>\n",
       "      <th>Native Hawaiian and Other Pacific Islander alone_Total</th>\n",
       "      <th>Some other race alone_tot</th>\n",
       "      <th>Two or more races_tot</th>\n",
       "      <th>Not_Hispanic_or_latino</th>\n",
       "      <th>Hispanic_or_latin_tot</th>\n",
       "      <th>non_white_total</th>\n",
       "    </tr>\n",
       "  </thead>\n",
       "  <tbody>\n",
       "    <tr>\n",
       "      <th>0</th>\n",
       "      <td>Autauga County, AL</td>\n",
       "      <td>Alabama</td>\n",
       "      <td>AL</td>\n",
       "      <td>42437</td>\n",
       "      <td>10565</td>\n",
       "      <td>159</td>\n",
       "      <td>568</td>\n",
       "      <td>32</td>\n",
       "      <td>409</td>\n",
       "      <td>1030</td>\n",
       "      <td>53672</td>\n",
       "      <td>1528</td>\n",
       "      <td>11324</td>\n",
       "    </tr>\n",
       "    <tr>\n",
       "      <th>1</th>\n",
       "      <td>Baldwin County, AL</td>\n",
       "      <td>Alabama</td>\n",
       "      <td>AL</td>\n",
       "      <td>179526</td>\n",
       "      <td>19764</td>\n",
       "      <td>1522</td>\n",
       "      <td>1680</td>\n",
       "      <td>9</td>\n",
       "      <td>2034</td>\n",
       "      <td>3572</td>\n",
       "      <td>198754</td>\n",
       "      <td>9353</td>\n",
       "      <td>22975</td>\n",
       "    </tr>\n",
       "  </tbody>\n",
       "</table>\n",
       "</div>"
      ],
      "text/plain": [
       "             GEO_NAME GEO_PARENT_NAME STABREV  White alone_Total  \\\n",
       "0  Autauga County, AL         Alabama      AL              42437   \n",
       "1  Baldwin County, AL         Alabama      AL             179526   \n",
       "\n",
       "   Black or African American alone_Total  \\\n",
       "0                                  10565   \n",
       "1                                  19764   \n",
       "\n",
       "   American Indian and Alaska Native alone_Total  Asian alone_Total  \\\n",
       "0                                            159                568   \n",
       "1                                           1522               1680   \n",
       "\n",
       "   Native Hawaiian and Other Pacific Islander alone_Total  \\\n",
       "0                                                 32        \n",
       "1                                                  9        \n",
       "\n",
       "   Some other race alone_tot  Two or more races_tot  Not_Hispanic_or_latino  \\\n",
       "0                        409                   1030                   53672   \n",
       "1                       2034                   3572                  198754   \n",
       "\n",
       "   Hispanic_or_latin_tot  non_white_total  \n",
       "0                   1528            11324  \n",
       "1                   9353            22975  "
      ]
     },
     "execution_count": 79,
     "metadata": {},
     "output_type": "execute_result"
    }
   ],
   "source": [
    "county_eth.head(2)"
   ]
  },
  {
   "cell_type": "code",
   "execution_count": 77,
   "metadata": {},
   "outputs": [],
   "source": [
    "#Calculating the number of non white people by eac county\n",
    "county_eth[\"non_white_total\"]=county_eth['Black or African American alone_Total']+county_eth['American Indian and Alaska Native alone_Total']+county_eth['Asian alone_Total']+county_eth['Native Hawaiian and Other Pacific Islander alone_Total']"
   ]
  },
  {
   "cell_type": "code",
   "execution_count": 80,
   "metadata": {},
   "outputs": [],
   "source": [
    "#Subsetting the non white population data\n",
    "county_nw=county_eth[['GEO_NAME','non_white_total']]"
   ]
  },
  {
   "cell_type": "code",
   "execution_count": 81,
   "metadata": {},
   "outputs": [],
   "source": [
    "#Joining county_population data and race ethinicity data\n",
    "df_nw_perc=County_subset.join(county_nw.set_index('GEO_NAME'), on='GEO_NAME')"
   ]
  },
  {
   "cell_type": "code",
   "execution_count": 83,
   "metadata": {},
   "outputs": [
    {
     "data": {
      "text/html": [
       "<div>\n",
       "<style scoped>\n",
       "    .dataframe tbody tr th:only-of-type {\n",
       "        vertical-align: middle;\n",
       "    }\n",
       "\n",
       "    .dataframe tbody tr th {\n",
       "        vertical-align: top;\n",
       "    }\n",
       "\n",
       "    .dataframe thead th {\n",
       "        text-align: right;\n",
       "    }\n",
       "</style>\n",
       "<table border=\"1\" class=\"dataframe\">\n",
       "  <thead>\n",
       "    <tr style=\"text-align: right;\">\n",
       "      <th></th>\n",
       "      <th>GEO_NAME</th>\n",
       "      <th>County_Population</th>\n",
       "      <th>non_white_total</th>\n",
       "    </tr>\n",
       "  </thead>\n",
       "  <tbody>\n",
       "    <tr>\n",
       "      <th>0</th>\n",
       "      <td>Autauga County, AL</td>\n",
       "      <td>55200</td>\n",
       "      <td>11324</td>\n",
       "    </tr>\n",
       "    <tr>\n",
       "      <th>1</th>\n",
       "      <td>Baldwin County, AL</td>\n",
       "      <td>208107</td>\n",
       "      <td>22975</td>\n",
       "    </tr>\n",
       "  </tbody>\n",
       "</table>\n",
       "</div>"
      ],
      "text/plain": [
       "             GEO_NAME  County_Population  non_white_total\n",
       "0  Autauga County, AL              55200            11324\n",
       "1  Baldwin County, AL             208107            22975"
      ]
     },
     "execution_count": 83,
     "metadata": {},
     "output_type": "execute_result"
    }
   ],
   "source": [
    "df_nw_perc.head(2)"
   ]
  },
  {
   "cell_type": "code",
   "execution_count": 84,
   "metadata": {},
   "outputs": [],
   "source": [
    "#calculating percentage of non white population by county\n",
    "df_nw_perc[\"perc_non_white\"]=df_nw_perc['non_white_total']/df_nw_perc['County_Population']*100"
   ]
  },
  {
   "cell_type": "code",
   "execution_count": 86,
   "metadata": {},
   "outputs": [],
   "source": [
    "#df_nw_perc.head()"
   ]
  },
  {
   "cell_type": "markdown",
   "metadata": {},
   "source": [
    "Which county has the largest non-white percentage (i.e. Black, American Indian, Asian, Pacific Islanders)?"
   ]
  },
  {
   "cell_type": "code",
   "execution_count": 89,
   "metadata": {},
   "outputs": [
    {
     "data": {
      "text/html": [
       "<div>\n",
       "<style scoped>\n",
       "    .dataframe tbody tr th:only-of-type {\n",
       "        vertical-align: middle;\n",
       "    }\n",
       "\n",
       "    .dataframe tbody tr th {\n",
       "        vertical-align: top;\n",
       "    }\n",
       "\n",
       "    .dataframe thead th {\n",
       "        text-align: right;\n",
       "    }\n",
       "</style>\n",
       "<table border=\"1\" class=\"dataframe\">\n",
       "  <thead>\n",
       "    <tr style=\"text-align: right;\">\n",
       "      <th></th>\n",
       "      <th>GEO_NAME</th>\n",
       "      <th>County_Population</th>\n",
       "      <th>non_white_total</th>\n",
       "      <th>perc_non_white</th>\n",
       "    </tr>\n",
       "  </thead>\n",
       "  <tbody>\n",
       "    <tr>\n",
       "      <th>2411</th>\n",
       "      <td>Oglala Lakota County, SD</td>\n",
       "      <td>14335</td>\n",
       "      <td>13269</td>\n",
       "      <td>92.563655</td>\n",
       "    </tr>\n",
       "    <tr>\n",
       "      <th>81</th>\n",
       "      <td>Kusilvak Census Area, AK</td>\n",
       "      <td>8198</td>\n",
       "      <td>7574</td>\n",
       "      <td>92.388387</td>\n",
       "    </tr>\n",
       "    <tr>\n",
       "      <th>1410</th>\n",
       "      <td>Claiborne County, MS</td>\n",
       "      <td>9120</td>\n",
       "      <td>8034</td>\n",
       "      <td>88.092105</td>\n",
       "    </tr>\n",
       "  </tbody>\n",
       "</table>\n",
       "</div>"
      ],
      "text/plain": [
       "                      GEO_NAME  County_Population  non_white_total  \\\n",
       "2411  Oglala Lakota County, SD              14335            13269   \n",
       "81    Kusilvak Census Area, AK               8198             7574   \n",
       "1410      Claiborne County, MS               9120             8034   \n",
       "\n",
       "      perc_non_white  \n",
       "2411       92.563655  \n",
       "81         92.388387  \n",
       "1410       88.092105  "
      ]
     },
     "execution_count": 89,
     "metadata": {},
     "output_type": "execute_result"
    }
   ],
   "source": [
    "#sorting the data to the county with largest percentage of non white people\n",
    "df_nw_perc.sort_values(by='perc_non_white', ascending=False).head(3)"
   ]
  },
  {
   "cell_type": "markdown",
   "metadata": {},
   "source": [
    "Which county has the largest American Indian and Alaska Native population in terms of percentage of the total population?"
   ]
  },
  {
   "cell_type": "code",
   "execution_count": 59,
   "metadata": {},
   "outputs": [],
   "source": [
    "#Joining county population and american indian population data\n",
    "am_ind_prop=County_subset.join(am_ind.set_index('GEO_NAME'), on='GEO_NAME')"
   ]
  },
  {
   "cell_type": "code",
   "execution_count": 2,
   "metadata": {},
   "outputs": [],
   "source": [
    "#reading race and eth by states data\n",
    "RE_State=pd.read_csv(\"Race_and_Ethnicity_-_States.csv\")"
   ]
  },
  {
   "cell_type": "code",
   "execution_count": 5,
   "metadata": {},
   "outputs": [
    {
     "data": {
      "text/html": [
       "<div>\n",
       "<style scoped>\n",
       "    .dataframe tbody tr th:only-of-type {\n",
       "        vertical-align: middle;\n",
       "    }\n",
       "\n",
       "    .dataframe tbody tr th {\n",
       "        vertical-align: top;\n",
       "    }\n",
       "\n",
       "    .dataframe thead th {\n",
       "        text-align: right;\n",
       "    }\n",
       "</style>\n",
       "<table border=\"1\" class=\"dataframe\">\n",
       "  <thead>\n",
       "    <tr style=\"text-align: right;\">\n",
       "      <th></th>\n",
       "      <th>OBJECTID</th>\n",
       "      <th>GEO_ID</th>\n",
       "      <th>GEO_NAME</th>\n",
       "      <th>FIPS_CODE</th>\n",
       "      <th>B02001_002E</th>\n",
       "      <th>B02001_002M</th>\n",
       "      <th>B02001_003E</th>\n",
       "      <th>B02001_003M</th>\n",
       "      <th>B02001_004E</th>\n",
       "      <th>B02001_004M</th>\n",
       "      <th>...</th>\n",
       "      <th>B02001_006E</th>\n",
       "      <th>B02001_006M</th>\n",
       "      <th>B02001_007E</th>\n",
       "      <th>B02001_007M</th>\n",
       "      <th>B02001_008E</th>\n",
       "      <th>B02001_008M</th>\n",
       "      <th>B03001_002E</th>\n",
       "      <th>B03001_002M</th>\n",
       "      <th>B03001_003E</th>\n",
       "      <th>B03001_003M</th>\n",
       "    </tr>\n",
       "  </thead>\n",
       "  <tbody>\n",
       "    <tr>\n",
       "      <th>0</th>\n",
       "      <td>1</td>\n",
       "      <td>0400000US01</td>\n",
       "      <td>Alabama</td>\n",
       "      <td>1</td>\n",
       "      <td>3317453</td>\n",
       "      <td>3345</td>\n",
       "      <td>1293186</td>\n",
       "      <td>2745</td>\n",
       "      <td>25576</td>\n",
       "      <td>1335</td>\n",
       "      <td>...</td>\n",
       "      <td>2182</td>\n",
       "      <td>546</td>\n",
       "      <td>70055</td>\n",
       "      <td>3631</td>\n",
       "      <td>91619</td>\n",
       "      <td>3331</td>\n",
       "      <td>4661534</td>\n",
       "      <td>393.0</td>\n",
       "      <td>203146</td>\n",
       "      <td>393.0</td>\n",
       "    </tr>\n",
       "    <tr>\n",
       "      <th>1</th>\n",
       "      <td>2</td>\n",
       "      <td>0400000US02</td>\n",
       "      <td>Alaska</td>\n",
       "      <td>2</td>\n",
       "      <td>478834</td>\n",
       "      <td>1368</td>\n",
       "      <td>24129</td>\n",
       "      <td>834</td>\n",
       "      <td>106660</td>\n",
       "      <td>1515</td>\n",
       "      <td>...</td>\n",
       "      <td>8849</td>\n",
       "      <td>485</td>\n",
       "      <td>11027</td>\n",
       "      <td>1329</td>\n",
       "      <td>62461</td>\n",
       "      <td>1816</td>\n",
       "      <td>687330</td>\n",
       "      <td>121.0</td>\n",
       "      <td>51186</td>\n",
       "      <td>121.0</td>\n",
       "    </tr>\n",
       "  </tbody>\n",
       "</table>\n",
       "<p>2 rows × 22 columns</p>\n",
       "</div>"
      ],
      "text/plain": [
       "   OBJECTID       GEO_ID GEO_NAME  FIPS_CODE  B02001_002E  B02001_002M  \\\n",
       "0         1  0400000US01  Alabama          1      3317453         3345   \n",
       "1         2  0400000US02   Alaska          2       478834         1368   \n",
       "\n",
       "   B02001_003E  B02001_003M  B02001_004E  B02001_004M  ...  B02001_006E  \\\n",
       "0      1293186         2745        25576         1335  ...         2182   \n",
       "1        24129          834       106660         1515  ...         8849   \n",
       "\n",
       "   B02001_006M  B02001_007E  B02001_007M  B02001_008E  B02001_008M  \\\n",
       "0          546        70055         3631        91619         3331   \n",
       "1          485        11027         1329        62461         1816   \n",
       "\n",
       "   B03001_002E  B03001_002M  B03001_003E  B03001_003M  \n",
       "0      4661534        393.0       203146        393.0  \n",
       "1       687330        121.0        51186        121.0  \n",
       "\n",
       "[2 rows x 22 columns]"
      ]
     },
     "execution_count": 5,
     "metadata": {},
     "output_type": "execute_result"
    }
   ],
   "source": [
    "RE_State.head(2)"
   ]
  },
  {
   "cell_type": "code",
   "execution_count": 4,
   "metadata": {},
   "outputs": [
    {
     "data": {
      "text/plain": [
       "Index(['OBJECTID', 'GEO_ID', 'GEO_NAME', 'FIPS_CODE', 'B02001_002E',\n",
       "       'B02001_002M', 'B02001_003E', 'B02001_003M', 'B02001_004E',\n",
       "       'B02001_004M', 'B02001_005E', 'B02001_005M', 'B02001_006E',\n",
       "       'B02001_006M', 'B02001_007E', 'B02001_007M', 'B02001_008E',\n",
       "       'B02001_008M', 'B03001_002E', 'B03001_002M', 'B03001_003E',\n",
       "       'B03001_003M'],\n",
       "      dtype='object')"
      ]
     },
     "execution_count": 4,
     "metadata": {},
     "output_type": "execute_result"
    }
   ],
   "source": [
    "RE_State.columns"
   ]
  },
  {
   "cell_type": "code",
   "execution_count": 7,
   "metadata": {},
   "outputs": [],
   "source": [
    "#Dropping columns which are not required\n",
    "RE_State=RE_State.drop(['OBJECTID','GEO_ID','FIPS_CODE','B02001_002M','B02001_003M','B02001_004M','B02001_005M','B02001_006M','B02001_007M','B02001_008M','B03001_002M','B03001_003M'],axis=1)"
   ]
  },
  {
   "cell_type": "code",
   "execution_count": 10,
   "metadata": {},
   "outputs": [],
   "source": [
    "#Renaming relevant columns\n",
    "RE_State=RE_State.rename(columns={\"B02001_002E\": \"White alone_Total\", \"B02001_003E\": \"Black or African American alone_Total\",\"B02001_004E\": \"American Indian and Alaska Native alone_Total\",\"B02001_005E\": \"Asian alone_Total\",\"B02001_006E\": \"Native Hawaiian and Other Pacific Islander alone_Total\"})"
   ]
  },
  {
   "cell_type": "code",
   "execution_count": 13,
   "metadata": {},
   "outputs": [
    {
     "data": {
      "text/html": [
       "<div>\n",
       "<style scoped>\n",
       "    .dataframe tbody tr th:only-of-type {\n",
       "        vertical-align: middle;\n",
       "    }\n",
       "\n",
       "    .dataframe tbody tr th {\n",
       "        vertical-align: top;\n",
       "    }\n",
       "\n",
       "    .dataframe thead th {\n",
       "        text-align: right;\n",
       "    }\n",
       "</style>\n",
       "<table border=\"1\" class=\"dataframe\">\n",
       "  <thead>\n",
       "    <tr style=\"text-align: right;\">\n",
       "      <th></th>\n",
       "      <th>GEO_NAME</th>\n",
       "      <th>White alone_Total</th>\n",
       "      <th>Black or African American alone_Total</th>\n",
       "      <th>American Indian and Alaska Native alone_Total</th>\n",
       "      <th>Asian alone_Total</th>\n",
       "      <th>Native Hawaiian and Other Pacific Islander alone_Total</th>\n",
       "      <th>Some other race alone_tot</th>\n",
       "      <th>Two or more races_tot</th>\n",
       "      <th>Not_Hispanic_or_latino</th>\n",
       "      <th>Hispanic_or_latin_tot</th>\n",
       "    </tr>\n",
       "  </thead>\n",
       "  <tbody>\n",
       "    <tr>\n",
       "      <th>0</th>\n",
       "      <td>Alabama</td>\n",
       "      <td>3317453</td>\n",
       "      <td>1293186</td>\n",
       "      <td>25576</td>\n",
       "      <td>64609</td>\n",
       "      <td>2182</td>\n",
       "      <td>70055</td>\n",
       "      <td>91619</td>\n",
       "      <td>4661534</td>\n",
       "      <td>203146</td>\n",
       "    </tr>\n",
       "    <tr>\n",
       "      <th>1</th>\n",
       "      <td>Alaska</td>\n",
       "      <td>478834</td>\n",
       "      <td>24129</td>\n",
       "      <td>106660</td>\n",
       "      <td>46556</td>\n",
       "      <td>8849</td>\n",
       "      <td>11027</td>\n",
       "      <td>62461</td>\n",
       "      <td>687330</td>\n",
       "      <td>51186</td>\n",
       "    </tr>\n",
       "  </tbody>\n",
       "</table>\n",
       "</div>"
      ],
      "text/plain": [
       "  GEO_NAME  White alone_Total  Black or African American alone_Total  \\\n",
       "0  Alabama            3317453                                1293186   \n",
       "1   Alaska             478834                                  24129   \n",
       "\n",
       "   American Indian and Alaska Native alone_Total  Asian alone_Total  \\\n",
       "0                                          25576              64609   \n",
       "1                                         106660              46556   \n",
       "\n",
       "   Native Hawaiian and Other Pacific Islander alone_Total  \\\n",
       "0                                               2182        \n",
       "1                                               8849        \n",
       "\n",
       "   Some other race alone_tot  Two or more races_tot  Not_Hispanic_or_latino  \\\n",
       "0                      70055                  91619                 4661534   \n",
       "1                      11027                  62461                  687330   \n",
       "\n",
       "   Hispanic_or_latin_tot  \n",
       "0                 203146  \n",
       "1                  51186  "
      ]
     },
     "execution_count": 13,
     "metadata": {},
     "output_type": "execute_result"
    }
   ],
   "source": [
    "RE_State.head(2)"
   ]
  },
  {
   "cell_type": "code",
   "execution_count": 12,
   "metadata": {},
   "outputs": [],
   "source": [
    "RE_State=RE_State.rename(columns={\"B02001_007E\": \"Some other race alone_tot\",\"B02001_008E\": \"Two or more races_tot\",\"B03001_002E\": \"Not_Hispanic_or_latino\",\"B03001_003E\": \"Hispanic_or_latin_tot\"})"
   ]
  },
  {
   "cell_type": "code",
   "execution_count": 16,
   "metadata": {},
   "outputs": [
    {
     "data": {
      "text/plain": [
       "(52, 10)"
      ]
     },
     "execution_count": 16,
     "metadata": {},
     "output_type": "execute_result"
    }
   ],
   "source": [
    "RE_State.shape"
   ]
  },
  {
   "cell_type": "code",
   "execution_count": 18,
   "metadata": {},
   "outputs": [],
   "source": [
    "#Seperating black and african american population data\n",
    "black_african=RE_State[['GEO_NAME','Black or African American alone_Total']]"
   ]
  },
  {
   "cell_type": "code",
   "execution_count": 19,
   "metadata": {},
   "outputs": [
    {
     "data": {
      "text/plain": [
       "Index(['GEO_NAME', 'Black or African American alone_Total'], dtype='object')"
      ]
     },
     "execution_count": 19,
     "metadata": {},
     "output_type": "execute_result"
    }
   ],
   "source": [
    "black_african.columns"
   ]
  },
  {
   "cell_type": "markdown",
   "metadata": {},
   "source": [
    "Which state has the smallest Black or African American population in terms of percentage of the total population?"
   ]
  },
  {
   "cell_type": "code",
   "execution_count": 14,
   "metadata": {},
   "outputs": [],
   "source": [
    "#Reading the state population data\n",
    "state_pop=pd.read_csv(\"Population_-_State.csv\")"
   ]
  },
  {
   "cell_type": "code",
   "execution_count": 20,
   "metadata": {},
   "outputs": [
    {
     "data": {
      "text/html": [
       "<div>\n",
       "<style scoped>\n",
       "    .dataframe tbody tr th:only-of-type {\n",
       "        vertical-align: middle;\n",
       "    }\n",
       "\n",
       "    .dataframe tbody tr th {\n",
       "        vertical-align: top;\n",
       "    }\n",
       "\n",
       "    .dataframe thead th {\n",
       "        text-align: right;\n",
       "    }\n",
       "</style>\n",
       "<table border=\"1\" class=\"dataframe\">\n",
       "  <thead>\n",
       "    <tr style=\"text-align: right;\">\n",
       "      <th></th>\n",
       "      <th>GEO_NAME</th>\n",
       "      <th>Total Population</th>\n",
       "    </tr>\n",
       "  </thead>\n",
       "  <tbody>\n",
       "    <tr>\n",
       "      <th>0</th>\n",
       "      <td>Alabama</td>\n",
       "      <td>4864680</td>\n",
       "    </tr>\n",
       "    <tr>\n",
       "      <th>1</th>\n",
       "      <td>Alaska</td>\n",
       "      <td>738516</td>\n",
       "    </tr>\n",
       "  </tbody>\n",
       "</table>\n",
       "</div>"
      ],
      "text/plain": [
       "  GEO_NAME  Total Population\n",
       "0  Alabama           4864680\n",
       "1   Alaska            738516"
      ]
     },
     "execution_count": 20,
     "metadata": {},
     "output_type": "execute_result"
    }
   ],
   "source": [
    "state_pop.head(2)"
   ]
  },
  {
   "cell_type": "code",
   "execution_count": 21,
   "metadata": {},
   "outputs": [],
   "source": [
    "#joining the state population data and state ethinicity data\n",
    "black_prop=black_african.join(state_pop.set_index('GEO_NAME'), on='GEO_NAME')"
   ]
  },
  {
   "cell_type": "code",
   "execution_count": 23,
   "metadata": {},
   "outputs": [
    {
     "data": {
      "text/html": [
       "<div>\n",
       "<style scoped>\n",
       "    .dataframe tbody tr th:only-of-type {\n",
       "        vertical-align: middle;\n",
       "    }\n",
       "\n",
       "    .dataframe tbody tr th {\n",
       "        vertical-align: top;\n",
       "    }\n",
       "\n",
       "    .dataframe thead th {\n",
       "        text-align: right;\n",
       "    }\n",
       "</style>\n",
       "<table border=\"1\" class=\"dataframe\">\n",
       "  <thead>\n",
       "    <tr style=\"text-align: right;\">\n",
       "      <th></th>\n",
       "      <th>GEO_NAME</th>\n",
       "      <th>Black or African American alone_Total</th>\n",
       "      <th>Total Population</th>\n",
       "    </tr>\n",
       "  </thead>\n",
       "  <tbody>\n",
       "    <tr>\n",
       "      <th>0</th>\n",
       "      <td>Alabama</td>\n",
       "      <td>1293186</td>\n",
       "      <td>4864680</td>\n",
       "    </tr>\n",
       "    <tr>\n",
       "      <th>1</th>\n",
       "      <td>Alaska</td>\n",
       "      <td>24129</td>\n",
       "      <td>738516</td>\n",
       "    </tr>\n",
       "  </tbody>\n",
       "</table>\n",
       "</div>"
      ],
      "text/plain": [
       "  GEO_NAME  Black or African American alone_Total  Total Population\n",
       "0  Alabama                                1293186           4864680\n",
       "1   Alaska                                  24129            738516"
      ]
     },
     "execution_count": 23,
     "metadata": {},
     "output_type": "execute_result"
    }
   ],
   "source": [
    "black_prop.head(2)"
   ]
  },
  {
   "cell_type": "code",
   "execution_count": 24,
   "metadata": {},
   "outputs": [],
   "source": [
    "#Calculating the percentage of african american people by state\n",
    "black_prop[\"percentage\"]=black_prop['Black or African American alone_Total']/black_prop['Total Population']*100"
   ]
  },
  {
   "cell_type": "code",
   "execution_count": 25,
   "metadata": {},
   "outputs": [
    {
     "data": {
      "text/html": [
       "<div>\n",
       "<style scoped>\n",
       "    .dataframe tbody tr th:only-of-type {\n",
       "        vertical-align: middle;\n",
       "    }\n",
       "\n",
       "    .dataframe tbody tr th {\n",
       "        vertical-align: top;\n",
       "    }\n",
       "\n",
       "    .dataframe thead th {\n",
       "        text-align: right;\n",
       "    }\n",
       "</style>\n",
       "<table border=\"1\" class=\"dataframe\">\n",
       "  <thead>\n",
       "    <tr style=\"text-align: right;\">\n",
       "      <th></th>\n",
       "      <th>GEO_NAME</th>\n",
       "      <th>Black or African American alone_Total</th>\n",
       "      <th>Total Population</th>\n",
       "      <th>percentage</th>\n",
       "    </tr>\n",
       "  </thead>\n",
       "  <tbody>\n",
       "    <tr>\n",
       "      <th>0</th>\n",
       "      <td>Alabama</td>\n",
       "      <td>1293186</td>\n",
       "      <td>4864680</td>\n",
       "      <td>26.583167</td>\n",
       "    </tr>\n",
       "    <tr>\n",
       "      <th>1</th>\n",
       "      <td>Alaska</td>\n",
       "      <td>24129</td>\n",
       "      <td>738516</td>\n",
       "      <td>3.267228</td>\n",
       "    </tr>\n",
       "    <tr>\n",
       "      <th>2</th>\n",
       "      <td>Arizona</td>\n",
       "      <td>305259</td>\n",
       "      <td>6946685</td>\n",
       "      <td>4.394312</td>\n",
       "    </tr>\n",
       "  </tbody>\n",
       "</table>\n",
       "</div>"
      ],
      "text/plain": [
       "  GEO_NAME  Black or African American alone_Total  Total Population  \\\n",
       "0  Alabama                                1293186           4864680   \n",
       "1   Alaska                                  24129            738516   \n",
       "2  Arizona                                 305259           6946685   \n",
       "\n",
       "   percentage  \n",
       "0   26.583167  \n",
       "1    3.267228  \n",
       "2    4.394312  "
      ]
     },
     "execution_count": 25,
     "metadata": {},
     "output_type": "execute_result"
    }
   ],
   "source": [
    "black_prop.head(3)"
   ]
  },
  {
   "cell_type": "code",
   "execution_count": 27,
   "metadata": {},
   "outputs": [
    {
     "data": {
      "text/html": [
       "<div>\n",
       "<style scoped>\n",
       "    .dataframe tbody tr th:only-of-type {\n",
       "        vertical-align: middle;\n",
       "    }\n",
       "\n",
       "    .dataframe tbody tr th {\n",
       "        vertical-align: top;\n",
       "    }\n",
       "\n",
       "    .dataframe thead th {\n",
       "        text-align: right;\n",
       "    }\n",
       "</style>\n",
       "<table border=\"1\" class=\"dataframe\">\n",
       "  <thead>\n",
       "    <tr style=\"text-align: right;\">\n",
       "      <th></th>\n",
       "      <th>GEO_NAME</th>\n",
       "      <th>Black or African American alone_Total</th>\n",
       "      <th>Total Population</th>\n",
       "      <th>percentage</th>\n",
       "    </tr>\n",
       "  </thead>\n",
       "  <tbody>\n",
       "    <tr>\n",
       "      <th>8</th>\n",
       "      <td>District of Columbia</td>\n",
       "      <td>321317</td>\n",
       "      <td>684498</td>\n",
       "      <td>46.941993</td>\n",
       "    </tr>\n",
       "  </tbody>\n",
       "</table>\n",
       "</div>"
      ],
      "text/plain": [
       "               GEO_NAME  Black or African American alone_Total  \\\n",
       "8  District of Columbia                                 321317   \n",
       "\n",
       "   Total Population  percentage  \n",
       "8            684498   46.941993  "
      ]
     },
     "execution_count": 27,
     "metadata": {},
     "output_type": "execute_result"
    }
   ],
   "source": [
    "#Sorting data to get state with higest percentage of african american population\n",
    "black_prop.sort_values(by='percentage', ascending=False).head(1)"
   ]
  },
  {
   "cell_type": "markdown",
   "metadata": {},
   "source": [
    "Which counties are the most and least resilient?"
   ]
  },
  {
   "cell_type": "code",
   "execution_count": 90,
   "metadata": {},
   "outputs": [],
   "source": [
    "#reading the resilience data\n",
    "cre=pd.read_csv(\"cre-2018-a11.csv\")"
   ]
  },
  {
   "cell_type": "markdown",
   "metadata": {},
   "source": [
    "rfgrp-Risk factor grouping (0 risk factors, 1-2 risk factors, 3+ risk factors)\n",
    "prednum-Estimated number of individuals living in a given tract\n",
    "predrt-100*prednum divided by popuni\n",
    "popuni-Population universe for each tract"
   ]
  },
  {
   "cell_type": "code",
   "execution_count": 93,
   "metadata": {},
   "outputs": [
    {
     "data": {
      "text/html": [
       "<div>\n",
       "<style scoped>\n",
       "    .dataframe tbody tr th:only-of-type {\n",
       "        vertical-align: middle;\n",
       "    }\n",
       "\n",
       "    .dataframe tbody tr th {\n",
       "        vertical-align: top;\n",
       "    }\n",
       "\n",
       "    .dataframe thead th {\n",
       "        text-align: right;\n",
       "    }\n",
       "</style>\n",
       "<table border=\"1\" class=\"dataframe\">\n",
       "  <thead>\n",
       "    <tr style=\"text-align: right;\">\n",
       "      <th></th>\n",
       "      <th>state</th>\n",
       "      <th>county</th>\n",
       "      <th>tract</th>\n",
       "      <th>rfgrp</th>\n",
       "      <th>prednum</th>\n",
       "      <th>prednum_moe</th>\n",
       "      <th>predrt</th>\n",
       "      <th>predrt_moe</th>\n",
       "      <th>stname</th>\n",
       "      <th>STABREV</th>\n",
       "      <th>ctname</th>\n",
       "      <th>popuni</th>\n",
       "    </tr>\n",
       "  </thead>\n",
       "  <tbody>\n",
       "    <tr>\n",
       "      <th>0</th>\n",
       "      <td>1</td>\n",
       "      <td>1</td>\n",
       "      <td>0</td>\n",
       "      <td>0RF</td>\n",
       "      <td>17545</td>\n",
       "      <td>4022.9</td>\n",
       "      <td>31.66</td>\n",
       "      <td>7.26</td>\n",
       "      <td>Alabama</td>\n",
       "      <td>AL</td>\n",
       "      <td>Autauga County, AL</td>\n",
       "      <td>55420</td>\n",
       "    </tr>\n",
       "    <tr>\n",
       "      <th>1</th>\n",
       "      <td>1</td>\n",
       "      <td>1</td>\n",
       "      <td>0</td>\n",
       "      <td>1-2RF</td>\n",
       "      <td>24796</td>\n",
       "      <td>4320.5</td>\n",
       "      <td>44.74</td>\n",
       "      <td>7.80</td>\n",
       "      <td>Alabama</td>\n",
       "      <td>AL</td>\n",
       "      <td>Autauga County, AL</td>\n",
       "      <td>55420</td>\n",
       "    </tr>\n",
       "    <tr>\n",
       "      <th>2</th>\n",
       "      <td>1</td>\n",
       "      <td>1</td>\n",
       "      <td>0</td>\n",
       "      <td>3PLRF</td>\n",
       "      <td>13079</td>\n",
       "      <td>3606.6</td>\n",
       "      <td>23.60</td>\n",
       "      <td>6.51</td>\n",
       "      <td>Alabama</td>\n",
       "      <td>AL</td>\n",
       "      <td>Autauga County, AL</td>\n",
       "      <td>55420</td>\n",
       "    </tr>\n",
       "  </tbody>\n",
       "</table>\n",
       "</div>"
      ],
      "text/plain": [
       "   state  county  tract  rfgrp  prednum  prednum_moe  predrt  predrt_moe  \\\n",
       "0      1       1      0    0RF    17545       4022.9   31.66        7.26   \n",
       "1      1       1      0  1-2RF    24796       4320.5   44.74        7.80   \n",
       "2      1       1      0  3PLRF    13079       3606.6   23.60        6.51   \n",
       "\n",
       "    stname STABREV              ctname  popuni  \n",
       "0  Alabama      AL  Autauga County, AL   55420  \n",
       "1  Alabama      AL  Autauga County, AL   55420  \n",
       "2  Alabama      AL  Autauga County, AL   55420  "
      ]
     },
     "execution_count": 93,
     "metadata": {},
     "output_type": "execute_result"
    }
   ],
   "source": [
    "cre.head(3)"
   ]
  },
  {
   "cell_type": "code",
   "execution_count": 94,
   "metadata": {},
   "outputs": [
    {
     "data": {
      "text/plain": [
       "55420"
      ]
     },
     "execution_count": 94,
     "metadata": {},
     "output_type": "execute_result"
    }
   ],
   "source": [
    "17545+24796+13079"
   ]
  },
  {
   "cell_type": "code",
   "execution_count": 95,
   "metadata": {},
   "outputs": [
    {
     "data": {
      "text/plain": [
       "100.0"
      ]
     },
     "execution_count": 95,
     "metadata": {},
     "output_type": "execute_result"
    }
   ],
   "source": [
    "31.66+44.74+23.60"
   ]
  },
  {
   "cell_type": "code",
   "execution_count": 96,
   "metadata": {},
   "outputs": [],
   "source": [
    "#Subsetting 0 risk factor data\n",
    "cre_zero_risk=cre.loc[(cre.tract==0)&(cre.rfgrp=='0RF'),['ctname','predrt']]"
   ]
  },
  {
   "cell_type": "code",
   "execution_count": 98,
   "metadata": {},
   "outputs": [
    {
     "data": {
      "text/html": [
       "<div>\n",
       "<style scoped>\n",
       "    .dataframe tbody tr th:only-of-type {\n",
       "        vertical-align: middle;\n",
       "    }\n",
       "\n",
       "    .dataframe tbody tr th {\n",
       "        vertical-align: top;\n",
       "    }\n",
       "\n",
       "    .dataframe thead th {\n",
       "        text-align: right;\n",
       "    }\n",
       "</style>\n",
       "<table border=\"1\" class=\"dataframe\">\n",
       "  <thead>\n",
       "    <tr style=\"text-align: right;\">\n",
       "      <th></th>\n",
       "      <th>ctname</th>\n",
       "      <th>predrt</th>\n",
       "    </tr>\n",
       "  </thead>\n",
       "  <tbody>\n",
       "    <tr>\n",
       "      <th>0</th>\n",
       "      <td>Autauga County, AL</td>\n",
       "      <td>31.66</td>\n",
       "    </tr>\n",
       "  </tbody>\n",
       "</table>\n",
       "</div>"
      ],
      "text/plain": [
       "               ctname  predrt\n",
       "0  Autauga County, AL   31.66"
      ]
     },
     "execution_count": 98,
     "metadata": {},
     "output_type": "execute_result"
    }
   ],
   "source": [
    "cre_zero_risk.head(1)"
   ]
  },
  {
   "cell_type": "code",
   "execution_count": 99,
   "metadata": {},
   "outputs": [
    {
     "data": {
      "text/html": [
       "<div>\n",
       "<style scoped>\n",
       "    .dataframe tbody tr th:only-of-type {\n",
       "        vertical-align: middle;\n",
       "    }\n",
       "\n",
       "    .dataframe tbody tr th {\n",
       "        vertical-align: top;\n",
       "    }\n",
       "\n",
       "    .dataframe thead th {\n",
       "        text-align: right;\n",
       "    }\n",
       "</style>\n",
       "<table border=\"1\" class=\"dataframe\">\n",
       "  <thead>\n",
       "    <tr style=\"text-align: right;\">\n",
       "      <th></th>\n",
       "      <th>ctname</th>\n",
       "      <th>predrt</th>\n",
       "    </tr>\n",
       "  </thead>\n",
       "  <tbody>\n",
       "    <tr>\n",
       "      <th>110943</th>\n",
       "      <td>Carver County, MN</td>\n",
       "      <td>49.94</td>\n",
       "    </tr>\n",
       "  </tbody>\n",
       "</table>\n",
       "</div>"
      ],
      "text/plain": [
       "                   ctname  predrt\n",
       "110943  Carver County, MN   49.94"
      ]
     },
     "execution_count": 99,
     "metadata": {},
     "output_type": "execute_result"
    }
   ],
   "source": [
    "#Most Resilient\n",
    "cre_zero_risk.sort_values(by='predrt', ascending=False).head(1)"
   ]
  },
  {
   "cell_type": "code",
   "execution_count": 100,
   "metadata": {},
   "outputs": [],
   "source": [
    "#Subsetting 3 plus risk factor data\n",
    "threeplus_risk=cre.loc[(cre.tract==0)&(cre.rfgrp=='3PLRF'),['ctname','predrt']]"
   ]
  },
  {
   "cell_type": "code",
   "execution_count": 102,
   "metadata": {},
   "outputs": [
    {
     "data": {
      "text/html": [
       "<div>\n",
       "<style scoped>\n",
       "    .dataframe tbody tr th:only-of-type {\n",
       "        vertical-align: middle;\n",
       "    }\n",
       "\n",
       "    .dataframe tbody tr th {\n",
       "        vertical-align: top;\n",
       "    }\n",
       "\n",
       "    .dataframe thead th {\n",
       "        text-align: right;\n",
       "    }\n",
       "</style>\n",
       "<table border=\"1\" class=\"dataframe\">\n",
       "  <thead>\n",
       "    <tr style=\"text-align: right;\">\n",
       "      <th></th>\n",
       "      <th>ctname</th>\n",
       "      <th>predrt</th>\n",
       "    </tr>\n",
       "  </thead>\n",
       "  <tbody>\n",
       "    <tr>\n",
       "      <th>2</th>\n",
       "      <td>Autauga County, AL</td>\n",
       "      <td>23.6</td>\n",
       "    </tr>\n",
       "  </tbody>\n",
       "</table>\n",
       "</div>"
      ],
      "text/plain": [
       "               ctname  predrt\n",
       "2  Autauga County, AL    23.6"
      ]
     },
     "execution_count": 102,
     "metadata": {},
     "output_type": "execute_result"
    }
   ],
   "source": [
    "threeplus_risk.head(1)"
   ]
  },
  {
   "cell_type": "code",
   "execution_count": 103,
   "metadata": {},
   "outputs": [
    {
     "data": {
      "text/html": [
       "<div>\n",
       "<style scoped>\n",
       "    .dataframe tbody tr th:only-of-type {\n",
       "        vertical-align: middle;\n",
       "    }\n",
       "\n",
       "    .dataframe tbody tr th {\n",
       "        vertical-align: top;\n",
       "    }\n",
       "\n",
       "    .dataframe thead th {\n",
       "        text-align: right;\n",
       "    }\n",
       "</style>\n",
       "<table border=\"1\" class=\"dataframe\">\n",
       "  <thead>\n",
       "    <tr style=\"text-align: right;\">\n",
       "      <th></th>\n",
       "      <th>ctname</th>\n",
       "      <th>predrt</th>\n",
       "    </tr>\n",
       "  </thead>\n",
       "  <tbody>\n",
       "    <tr>\n",
       "      <th>55646</th>\n",
       "      <td>Sumter County, FL</td>\n",
       "      <td>48.45</td>\n",
       "    </tr>\n",
       "  </tbody>\n",
       "</table>\n",
       "</div>"
      ],
      "text/plain": [
       "                  ctname  predrt\n",
       "55646  Sumter County, FL   48.45"
      ]
     },
     "execution_count": 103,
     "metadata": {},
     "output_type": "execute_result"
    }
   ],
   "source": [
    "#Least Resilient\n",
    "threeplus_risk.sort_values(by='predrt', ascending=False).head(1)"
   ]
  },
  {
   "cell_type": "markdown",
   "metadata": {},
   "source": [
    "Creating file for deliverable 3"
   ]
  },
  {
   "cell_type": "code",
   "execution_count": 104,
   "metadata": {},
   "outputs": [
    {
     "data": {
      "text/plain": [
       "(3142, 2)"
      ]
     },
     "execution_count": 104,
     "metadata": {},
     "output_type": "execute_result"
    }
   ],
   "source": [
    "threeplus_risk.shape"
   ]
  },
  {
   "cell_type": "code",
   "execution_count": 109,
   "metadata": {},
   "outputs": [
    {
     "data": {
      "text/html": [
       "<div>\n",
       "<style scoped>\n",
       "    .dataframe tbody tr th:only-of-type {\n",
       "        vertical-align: middle;\n",
       "    }\n",
       "\n",
       "    .dataframe tbody tr th {\n",
       "        vertical-align: top;\n",
       "    }\n",
       "\n",
       "    .dataframe thead th {\n",
       "        text-align: right;\n",
       "    }\n",
       "</style>\n",
       "<table border=\"1\" class=\"dataframe\">\n",
       "  <thead>\n",
       "    <tr style=\"text-align: right;\">\n",
       "      <th></th>\n",
       "      <th>GEO_NAME</th>\n",
       "      <th>predrt</th>\n",
       "    </tr>\n",
       "  </thead>\n",
       "  <tbody>\n",
       "    <tr>\n",
       "      <th>2</th>\n",
       "      <td>Autauga County, AL</td>\n",
       "      <td>23.60</td>\n",
       "    </tr>\n",
       "    <tr>\n",
       "      <th>41</th>\n",
       "      <td>Baldwin County, AL</td>\n",
       "      <td>24.72</td>\n",
       "    </tr>\n",
       "  </tbody>\n",
       "</table>\n",
       "</div>"
      ],
      "text/plain": [
       "              GEO_NAME  predrt\n",
       "2   Autauga County, AL   23.60\n",
       "41  Baldwin County, AL   24.72"
      ]
     },
     "execution_count": 109,
     "metadata": {},
     "output_type": "execute_result"
    }
   ],
   "source": [
    "threeplus_risk.head(2)"
   ]
  },
  {
   "cell_type": "code",
   "execution_count": 105,
   "metadata": {},
   "outputs": [
    {
     "data": {
      "text/plain": [
       "(3220, 4)"
      ]
     },
     "execution_count": 105,
     "metadata": {},
     "output_type": "execute_result"
    }
   ],
   "source": [
    "df_nw_perc.shape"
   ]
  },
  {
   "cell_type": "code",
   "execution_count": 108,
   "metadata": {},
   "outputs": [],
   "source": [
    "#renaming column to join\n",
    "threeplus_risk=threeplus_risk.rename(columns={\"ctname\": \"GEO_NAME\"})"
   ]
  },
  {
   "cell_type": "code",
   "execution_count": 107,
   "metadata": {},
   "outputs": [
    {
     "data": {
      "text/html": [
       "<div>\n",
       "<style scoped>\n",
       "    .dataframe tbody tr th:only-of-type {\n",
       "        vertical-align: middle;\n",
       "    }\n",
       "\n",
       "    .dataframe tbody tr th {\n",
       "        vertical-align: top;\n",
       "    }\n",
       "\n",
       "    .dataframe thead th {\n",
       "        text-align: right;\n",
       "    }\n",
       "</style>\n",
       "<table border=\"1\" class=\"dataframe\">\n",
       "  <thead>\n",
       "    <tr style=\"text-align: right;\">\n",
       "      <th></th>\n",
       "      <th>GEO_NAME</th>\n",
       "      <th>County_Population</th>\n",
       "      <th>non_white_total</th>\n",
       "      <th>perc_non_white</th>\n",
       "    </tr>\n",
       "  </thead>\n",
       "  <tbody>\n",
       "    <tr>\n",
       "      <th>0</th>\n",
       "      <td>Autauga County, AL</td>\n",
       "      <td>55200</td>\n",
       "      <td>11324</td>\n",
       "      <td>20.514493</td>\n",
       "    </tr>\n",
       "    <tr>\n",
       "      <th>1</th>\n",
       "      <td>Baldwin County, AL</td>\n",
       "      <td>208107</td>\n",
       "      <td>22975</td>\n",
       "      <td>11.039994</td>\n",
       "    </tr>\n",
       "  </tbody>\n",
       "</table>\n",
       "</div>"
      ],
      "text/plain": [
       "             GEO_NAME  County_Population  non_white_total  perc_non_white\n",
       "0  Autauga County, AL              55200            11324       20.514493\n",
       "1  Baldwin County, AL             208107            22975       11.039994"
      ]
     },
     "execution_count": 107,
     "metadata": {},
     "output_type": "execute_result"
    }
   ],
   "source": [
    "df_nw_perc.head(2)"
   ]
  },
  {
   "cell_type": "code",
   "execution_count": 110,
   "metadata": {},
   "outputs": [],
   "source": [
    "#Joining the two data frames\n",
    "nw_threeplus_prdrt=df_nw_perc.join(threeplus_risk.set_index('GEO_NAME'), on='GEO_NAME')"
   ]
  },
  {
   "cell_type": "code",
   "execution_count": 112,
   "metadata": {},
   "outputs": [
    {
     "data": {
      "text/html": [
       "<div>\n",
       "<style scoped>\n",
       "    .dataframe tbody tr th:only-of-type {\n",
       "        vertical-align: middle;\n",
       "    }\n",
       "\n",
       "    .dataframe tbody tr th {\n",
       "        vertical-align: top;\n",
       "    }\n",
       "\n",
       "    .dataframe thead th {\n",
       "        text-align: right;\n",
       "    }\n",
       "</style>\n",
       "<table border=\"1\" class=\"dataframe\">\n",
       "  <thead>\n",
       "    <tr style=\"text-align: right;\">\n",
       "      <th></th>\n",
       "      <th>GEO_NAME</th>\n",
       "      <th>County_Population</th>\n",
       "      <th>non_white_total</th>\n",
       "      <th>perc_non_white</th>\n",
       "      <th>predrt</th>\n",
       "    </tr>\n",
       "  </thead>\n",
       "  <tbody>\n",
       "    <tr>\n",
       "      <th>0</th>\n",
       "      <td>Autauga County, AL</td>\n",
       "      <td>55200</td>\n",
       "      <td>11324</td>\n",
       "      <td>20.514493</td>\n",
       "      <td>23.60</td>\n",
       "    </tr>\n",
       "    <tr>\n",
       "      <th>1</th>\n",
       "      <td>Baldwin County, AL</td>\n",
       "      <td>208107</td>\n",
       "      <td>22975</td>\n",
       "      <td>11.039994</td>\n",
       "      <td>24.72</td>\n",
       "    </tr>\n",
       "  </tbody>\n",
       "</table>\n",
       "</div>"
      ],
      "text/plain": [
       "             GEO_NAME  County_Population  non_white_total  perc_non_white  \\\n",
       "0  Autauga County, AL              55200            11324       20.514493   \n",
       "1  Baldwin County, AL             208107            22975       11.039994   \n",
       "\n",
       "   predrt  \n",
       "0   23.60  \n",
       "1   24.72  "
      ]
     },
     "execution_count": 112,
     "metadata": {},
     "output_type": "execute_result"
    }
   ],
   "source": [
    "nw_threeplus_prdrt.head(2)"
   ]
  },
  {
   "cell_type": "code",
   "execution_count": 113,
   "metadata": {},
   "outputs": [],
   "source": [
    "nw_threeplus_prdrt.to_csv(\"Deliverble3_Input.csv\")"
   ]
  }
 ],
 "metadata": {
  "kernelspec": {
   "display_name": "Python 3",
   "language": "python",
   "name": "python3"
  },
  "language_info": {
   "codemirror_mode": {
    "name": "ipython",
    "version": 3
   },
   "file_extension": ".py",
   "mimetype": "text/x-python",
   "name": "python",
   "nbconvert_exporter": "python",
   "pygments_lexer": "ipython3",
   "version": "3.8.3"
  }
 },
 "nbformat": 4,
 "nbformat_minor": 4
}
