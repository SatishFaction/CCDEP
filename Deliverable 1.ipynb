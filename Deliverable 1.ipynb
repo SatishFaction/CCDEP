{
 "cells": [
  {
   "cell_type": "markdown",
   "metadata": {},
   "source": [
    "# Deliverable 1"
   ]
  },
  {
   "cell_type": "markdown",
   "metadata": {},
   "source": [
    "# Data Wrangling"
   ]
  },
  {
   "cell_type": "code",
   "execution_count": 2,
   "metadata": {},
   "outputs": [],
   "source": [
    "#Importing the neccessary packages\n",
    "import pandas as pd\n",
    "import numpy as np"
   ]
  },
  {
   "cell_type": "code",
   "execution_count": 3,
   "metadata": {},
   "outputs": [],
   "source": [
    "#Reading the Race and Ethnicity file\n",
    "Race_Eth=pd.read_csv(\"Race_and_Ethnicity_-_County.csv\")\n"
   ]
  },
  {
   "cell_type": "code",
   "execution_count": 4,
   "metadata": {},
   "outputs": [
    {
     "data": {
      "text/plain": [
       "(3220, 24)"
      ]
     },
     "execution_count": 4,
     "metadata": {},
     "output_type": "execute_result"
    }
   ],
   "source": [
    "#Finding out the number of rows and columns in the dataset\n",
    "Race_Eth.shape"
   ]
  },
  {
   "cell_type": "code",
   "execution_count": 5,
   "metadata": {},
   "outputs": [
    {
     "data": {
      "text/plain": [
       "Index(['OBJECTID', 'GEO_ID', 'GEO_NAME', 'GEO_PARENT_NAME', 'STABREV',\n",
       "       'FIPS_CODE', 'B02001_002E', 'B02001_002M', 'B02001_003E', 'B02001_003M',\n",
       "       'B02001_004E', 'B02001_004M', 'B02001_005E', 'B02001_005M',\n",
       "       'B02001_006E', 'B02001_006M', 'B02001_007E', 'B02001_007M',\n",
       "       'B02001_008E', 'B02001_008M', 'B03001_002E', 'B03001_002M',\n",
       "       'B03001_003E', 'B03001_003M'],\n",
       "      dtype='object')"
      ]
     },
     "execution_count": 5,
     "metadata": {},
     "output_type": "execute_result"
    }
   ],
   "source": [
    "#Variables in the dataset\n",
    "Race_Eth.columns"
   ]
  },
  {
   "cell_type": "code",
   "execution_count": 6,
   "metadata": {},
   "outputs": [],
   "source": [
    "#Renaming Columns\n",
    "Race_Eth=Race_Eth.rename(columns={\"B02001_002E\": \"White alone_Total\", \"B02001_003E\": \"Black or African American alone_Total\",\"B02001_004E\": \"American Indian and Alaska Native alone_Total\",\"B02001_005E\": \"Asian alone_Total\",\"B02001_006E\": \"Native Hawaiian and Other Pacific Islander alone_Total\"})"
   ]
  },
  {
   "cell_type": "code",
   "execution_count": 7,
   "metadata": {},
   "outputs": [],
   "source": [
    "#Checking for null values in the Data\n",
    "#Race_Eth.isnull().sum()\n",
    "#len(Race_Eth.GEO_NAME.unique())"
   ]
  },
  {
   "cell_type": "code",
   "execution_count": 8,
   "metadata": {},
   "outputs": [],
   "source": [
    "#Race_Eth.columns"
   ]
  },
  {
   "cell_type": "code",
   "execution_count": 9,
   "metadata": {},
   "outputs": [],
   "source": [
    "#Removing Unwanted Columns\n",
    "Race_Eth=Race_Eth.drop(['OBJECTID','B02001_002M','B02001_003M','B02001_004M','B02001_005M','B02001_006M','B02001_007E','B02001_007M','B02001_008E','B02001_008M','B03001_002E','B03001_002M','B03001_003E','B03001_003M'], axis=1)"
   ]
  },
  {
   "cell_type": "code",
   "execution_count": 10,
   "metadata": {},
   "outputs": [
    {
     "data": {
      "text/plain": [
       "(3220, 10)"
      ]
     },
     "execution_count": 10,
     "metadata": {},
     "output_type": "execute_result"
    }
   ],
   "source": [
    "#Checking the Data\n",
    "Race_Eth.shape"
   ]
  },
  {
   "cell_type": "code",
   "execution_count": 11,
   "metadata": {},
   "outputs": [],
   "source": [
    "#Race_Eth.head()"
   ]
  },
  {
   "cell_type": "code",
   "execution_count": 12,
   "metadata": {},
   "outputs": [],
   "source": [
    "#Removing values of the state puerto Rico\n",
    "Race_Without_Puerto_Rico=Race_Eth.loc[Race_Eth.GEO_PARENT_NAME!='Puerto Rico',]"
   ]
  },
  {
   "cell_type": "code",
   "execution_count": 13,
   "metadata": {},
   "outputs": [],
   "source": [
    "#Race_Without_Puerto_Rico.isnull().sum()"
   ]
  },
  {
   "cell_type": "code",
   "execution_count": 14,
   "metadata": {},
   "outputs": [],
   "source": [
    "#sum(Race_Without_Puerto_Rico.duplicated())"
   ]
  },
  {
   "cell_type": "code",
   "execution_count": 15,
   "metadata": {},
   "outputs": [
    {
     "data": {
      "text/html": [
       "<div>\n",
       "<style scoped>\n",
       "    .dataframe tbody tr th:only-of-type {\n",
       "        vertical-align: middle;\n",
       "    }\n",
       "\n",
       "    .dataframe tbody tr th {\n",
       "        vertical-align: top;\n",
       "    }\n",
       "\n",
       "    .dataframe thead th {\n",
       "        text-align: right;\n",
       "    }\n",
       "</style>\n",
       "<table border=\"1\" class=\"dataframe\">\n",
       "  <thead>\n",
       "    <tr style=\"text-align: right;\">\n",
       "      <th></th>\n",
       "      <th>GEO_ID</th>\n",
       "      <th>GEO_NAME</th>\n",
       "      <th>GEO_PARENT_NAME</th>\n",
       "      <th>STABREV</th>\n",
       "      <th>FIPS_CODE</th>\n",
       "      <th>White alone_Total</th>\n",
       "      <th>Black or African American alone_Total</th>\n",
       "      <th>American Indian and Alaska Native alone_Total</th>\n",
       "      <th>Asian alone_Total</th>\n",
       "      <th>Native Hawaiian and Other Pacific Islander alone_Total</th>\n",
       "    </tr>\n",
       "  </thead>\n",
       "  <tbody>\n",
       "    <tr>\n",
       "      <th>0</th>\n",
       "      <td>0500000US01001</td>\n",
       "      <td>Autauga County</td>\n",
       "      <td>Alabama</td>\n",
       "      <td>AL</td>\n",
       "      <td>1001</td>\n",
       "      <td>42437</td>\n",
       "      <td>10565</td>\n",
       "      <td>159</td>\n",
       "      <td>568</td>\n",
       "      <td>32</td>\n",
       "    </tr>\n",
       "    <tr>\n",
       "      <th>1</th>\n",
       "      <td>0500000US01003</td>\n",
       "      <td>Baldwin County</td>\n",
       "      <td>Alabama</td>\n",
       "      <td>AL</td>\n",
       "      <td>1003</td>\n",
       "      <td>179526</td>\n",
       "      <td>19764</td>\n",
       "      <td>1522</td>\n",
       "      <td>1680</td>\n",
       "      <td>9</td>\n",
       "    </tr>\n",
       "    <tr>\n",
       "      <th>2</th>\n",
       "      <td>0500000US01005</td>\n",
       "      <td>Barbour County</td>\n",
       "      <td>Alabama</td>\n",
       "      <td>AL</td>\n",
       "      <td>1005</td>\n",
       "      <td>12216</td>\n",
       "      <td>12266</td>\n",
       "      <td>72</td>\n",
       "      <td>96</td>\n",
       "      <td>1</td>\n",
       "    </tr>\n",
       "    <tr>\n",
       "      <th>3</th>\n",
       "      <td>0500000US01007</td>\n",
       "      <td>Bibb County</td>\n",
       "      <td>Alabama</td>\n",
       "      <td>AL</td>\n",
       "      <td>1007</td>\n",
       "      <td>17268</td>\n",
       "      <td>5018</td>\n",
       "      <td>8</td>\n",
       "      <td>37</td>\n",
       "      <td>0</td>\n",
       "    </tr>\n",
       "    <tr>\n",
       "      <th>4</th>\n",
       "      <td>0500000US01009</td>\n",
       "      <td>Blount County</td>\n",
       "      <td>Alabama</td>\n",
       "      <td>AL</td>\n",
       "      <td>1009</td>\n",
       "      <td>55054</td>\n",
       "      <td>862</td>\n",
       "      <td>141</td>\n",
       "      <td>198</td>\n",
       "      <td>18</td>\n",
       "    </tr>\n",
       "  </tbody>\n",
       "</table>\n",
       "</div>"
      ],
      "text/plain": [
       "           GEO_ID        GEO_NAME GEO_PARENT_NAME STABREV  FIPS_CODE  \\\n",
       "0  0500000US01001  Autauga County         Alabama      AL       1001   \n",
       "1  0500000US01003  Baldwin County         Alabama      AL       1003   \n",
       "2  0500000US01005  Barbour County         Alabama      AL       1005   \n",
       "3  0500000US01007     Bibb County         Alabama      AL       1007   \n",
       "4  0500000US01009   Blount County         Alabama      AL       1009   \n",
       "\n",
       "   White alone_Total  Black or African American alone_Total  \\\n",
       "0              42437                                  10565   \n",
       "1             179526                                  19764   \n",
       "2              12216                                  12266   \n",
       "3              17268                                   5018   \n",
       "4              55054                                    862   \n",
       "\n",
       "   American Indian and Alaska Native alone_Total  Asian alone_Total  \\\n",
       "0                                            159                568   \n",
       "1                                           1522               1680   \n",
       "2                                             72                 96   \n",
       "3                                              8                 37   \n",
       "4                                            141                198   \n",
       "\n",
       "   Native Hawaiian and Other Pacific Islander alone_Total  \n",
       "0                                                 32       \n",
       "1                                                  9       \n",
       "2                                                  1       \n",
       "3                                                  0       \n",
       "4                                                 18       "
      ]
     },
     "execution_count": 15,
     "metadata": {},
     "output_type": "execute_result"
    }
   ],
   "source": [
    "Race_Without_Puerto_Rico.head()"
   ]
  },
  {
   "cell_type": "code",
   "execution_count": 16,
   "metadata": {},
   "outputs": [
    {
     "name": "stderr",
     "output_type": "stream",
     "text": [
      "<ipython-input-16-de61f9776d28>:2: SettingWithCopyWarning: \n",
      "A value is trying to be set on a copy of a slice from a DataFrame.\n",
      "Try using .loc[row_indexer,col_indexer] = value instead\n",
      "\n",
      "See the caveats in the documentation: https://pandas.pydata.org/pandas-docs/stable/user_guide/indexing.html#returning-a-view-versus-a-copy\n",
      "  Race_Without_Puerto_Rico[\"ctname\"]=Race_Without_Puerto_Rico[\"GEO_NAME\"]+', '+Race_Without_Puerto_Rico[\"STABREV\"]\n"
     ]
    }
   ],
   "source": [
    "#Adding a new column for joining with the other table\n",
    "Race_Without_Puerto_Rico[\"ctname\"]=Race_Without_Puerto_Rico[\"GEO_NAME\"]+', '+Race_Without_Puerto_Rico[\"STABREV\"]"
   ]
  },
  {
   "cell_type": "code",
   "execution_count": 17,
   "metadata": {},
   "outputs": [
    {
     "data": {
      "text/html": [
       "<div>\n",
       "<style scoped>\n",
       "    .dataframe tbody tr th:only-of-type {\n",
       "        vertical-align: middle;\n",
       "    }\n",
       "\n",
       "    .dataframe tbody tr th {\n",
       "        vertical-align: top;\n",
       "    }\n",
       "\n",
       "    .dataframe thead th {\n",
       "        text-align: right;\n",
       "    }\n",
       "</style>\n",
       "<table border=\"1\" class=\"dataframe\">\n",
       "  <thead>\n",
       "    <tr style=\"text-align: right;\">\n",
       "      <th></th>\n",
       "      <th>GEO_ID</th>\n",
       "      <th>GEO_NAME</th>\n",
       "      <th>GEO_PARENT_NAME</th>\n",
       "      <th>STABREV</th>\n",
       "      <th>FIPS_CODE</th>\n",
       "      <th>White alone_Total</th>\n",
       "      <th>Black or African American alone_Total</th>\n",
       "      <th>American Indian and Alaska Native alone_Total</th>\n",
       "      <th>Asian alone_Total</th>\n",
       "      <th>Native Hawaiian and Other Pacific Islander alone_Total</th>\n",
       "      <th>ctname</th>\n",
       "    </tr>\n",
       "  </thead>\n",
       "  <tbody>\n",
       "    <tr>\n",
       "      <th>0</th>\n",
       "      <td>0500000US01001</td>\n",
       "      <td>Autauga County</td>\n",
       "      <td>Alabama</td>\n",
       "      <td>AL</td>\n",
       "      <td>1001</td>\n",
       "      <td>42437</td>\n",
       "      <td>10565</td>\n",
       "      <td>159</td>\n",
       "      <td>568</td>\n",
       "      <td>32</td>\n",
       "      <td>Autauga County, AL</td>\n",
       "    </tr>\n",
       "    <tr>\n",
       "      <th>1</th>\n",
       "      <td>0500000US01003</td>\n",
       "      <td>Baldwin County</td>\n",
       "      <td>Alabama</td>\n",
       "      <td>AL</td>\n",
       "      <td>1003</td>\n",
       "      <td>179526</td>\n",
       "      <td>19764</td>\n",
       "      <td>1522</td>\n",
       "      <td>1680</td>\n",
       "      <td>9</td>\n",
       "      <td>Baldwin County, AL</td>\n",
       "    </tr>\n",
       "    <tr>\n",
       "      <th>2</th>\n",
       "      <td>0500000US01005</td>\n",
       "      <td>Barbour County</td>\n",
       "      <td>Alabama</td>\n",
       "      <td>AL</td>\n",
       "      <td>1005</td>\n",
       "      <td>12216</td>\n",
       "      <td>12266</td>\n",
       "      <td>72</td>\n",
       "      <td>96</td>\n",
       "      <td>1</td>\n",
       "      <td>Barbour County, AL</td>\n",
       "    </tr>\n",
       "    <tr>\n",
       "      <th>3</th>\n",
       "      <td>0500000US01007</td>\n",
       "      <td>Bibb County</td>\n",
       "      <td>Alabama</td>\n",
       "      <td>AL</td>\n",
       "      <td>1007</td>\n",
       "      <td>17268</td>\n",
       "      <td>5018</td>\n",
       "      <td>8</td>\n",
       "      <td>37</td>\n",
       "      <td>0</td>\n",
       "      <td>Bibb County, AL</td>\n",
       "    </tr>\n",
       "    <tr>\n",
       "      <th>4</th>\n",
       "      <td>0500000US01009</td>\n",
       "      <td>Blount County</td>\n",
       "      <td>Alabama</td>\n",
       "      <td>AL</td>\n",
       "      <td>1009</td>\n",
       "      <td>55054</td>\n",
       "      <td>862</td>\n",
       "      <td>141</td>\n",
       "      <td>198</td>\n",
       "      <td>18</td>\n",
       "      <td>Blount County, AL</td>\n",
       "    </tr>\n",
       "  </tbody>\n",
       "</table>\n",
       "</div>"
      ],
      "text/plain": [
       "           GEO_ID        GEO_NAME GEO_PARENT_NAME STABREV  FIPS_CODE  \\\n",
       "0  0500000US01001  Autauga County         Alabama      AL       1001   \n",
       "1  0500000US01003  Baldwin County         Alabama      AL       1003   \n",
       "2  0500000US01005  Barbour County         Alabama      AL       1005   \n",
       "3  0500000US01007     Bibb County         Alabama      AL       1007   \n",
       "4  0500000US01009   Blount County         Alabama      AL       1009   \n",
       "\n",
       "   White alone_Total  Black or African American alone_Total  \\\n",
       "0              42437                                  10565   \n",
       "1             179526                                  19764   \n",
       "2              12216                                  12266   \n",
       "3              17268                                   5018   \n",
       "4              55054                                    862   \n",
       "\n",
       "   American Indian and Alaska Native alone_Total  Asian alone_Total  \\\n",
       "0                                            159                568   \n",
       "1                                           1522               1680   \n",
       "2                                             72                 96   \n",
       "3                                              8                 37   \n",
       "4                                            141                198   \n",
       "\n",
       "   Native Hawaiian and Other Pacific Islander alone_Total              ctname  \n",
       "0                                                 32       Autauga County, AL  \n",
       "1                                                  9       Baldwin County, AL  \n",
       "2                                                  1       Barbour County, AL  \n",
       "3                                                  0          Bibb County, AL  \n",
       "4                                                 18        Blount County, AL  "
      ]
     },
     "execution_count": 17,
     "metadata": {},
     "output_type": "execute_result"
    }
   ],
   "source": [
    "Race_Without_Puerto_Rico.head(5)"
   ]
  },
  {
   "cell_type": "code",
   "execution_count": 18,
   "metadata": {},
   "outputs": [],
   "source": [
    "#dropping column GEO_ID\n",
    "Race_Without_Puerto_Rico=Race_Without_Puerto_Rico.drop(['GEO_ID'],axis=1)"
   ]
  },
  {
   "cell_type": "code",
   "execution_count": 19,
   "metadata": {},
   "outputs": [
    {
     "data": {
      "text/html": [
       "<div>\n",
       "<style scoped>\n",
       "    .dataframe tbody tr th:only-of-type {\n",
       "        vertical-align: middle;\n",
       "    }\n",
       "\n",
       "    .dataframe tbody tr th {\n",
       "        vertical-align: top;\n",
       "    }\n",
       "\n",
       "    .dataframe thead th {\n",
       "        text-align: right;\n",
       "    }\n",
       "</style>\n",
       "<table border=\"1\" class=\"dataframe\">\n",
       "  <thead>\n",
       "    <tr style=\"text-align: right;\">\n",
       "      <th></th>\n",
       "      <th>GEO_NAME</th>\n",
       "      <th>GEO_PARENT_NAME</th>\n",
       "      <th>STABREV</th>\n",
       "      <th>FIPS_CODE</th>\n",
       "      <th>White alone_Total</th>\n",
       "      <th>Black or African American alone_Total</th>\n",
       "      <th>American Indian and Alaska Native alone_Total</th>\n",
       "      <th>Asian alone_Total</th>\n",
       "      <th>Native Hawaiian and Other Pacific Islander alone_Total</th>\n",
       "      <th>ctname</th>\n",
       "    </tr>\n",
       "  </thead>\n",
       "  <tbody>\n",
       "    <tr>\n",
       "      <th>0</th>\n",
       "      <td>Autauga County</td>\n",
       "      <td>Alabama</td>\n",
       "      <td>AL</td>\n",
       "      <td>1001</td>\n",
       "      <td>42437</td>\n",
       "      <td>10565</td>\n",
       "      <td>159</td>\n",
       "      <td>568</td>\n",
       "      <td>32</td>\n",
       "      <td>Autauga County, AL</td>\n",
       "    </tr>\n",
       "    <tr>\n",
       "      <th>1</th>\n",
       "      <td>Baldwin County</td>\n",
       "      <td>Alabama</td>\n",
       "      <td>AL</td>\n",
       "      <td>1003</td>\n",
       "      <td>179526</td>\n",
       "      <td>19764</td>\n",
       "      <td>1522</td>\n",
       "      <td>1680</td>\n",
       "      <td>9</td>\n",
       "      <td>Baldwin County, AL</td>\n",
       "    </tr>\n",
       "    <tr>\n",
       "      <th>2</th>\n",
       "      <td>Barbour County</td>\n",
       "      <td>Alabama</td>\n",
       "      <td>AL</td>\n",
       "      <td>1005</td>\n",
       "      <td>12216</td>\n",
       "      <td>12266</td>\n",
       "      <td>72</td>\n",
       "      <td>96</td>\n",
       "      <td>1</td>\n",
       "      <td>Barbour County, AL</td>\n",
       "    </tr>\n",
       "    <tr>\n",
       "      <th>3</th>\n",
       "      <td>Bibb County</td>\n",
       "      <td>Alabama</td>\n",
       "      <td>AL</td>\n",
       "      <td>1007</td>\n",
       "      <td>17268</td>\n",
       "      <td>5018</td>\n",
       "      <td>8</td>\n",
       "      <td>37</td>\n",
       "      <td>0</td>\n",
       "      <td>Bibb County, AL</td>\n",
       "    </tr>\n",
       "    <tr>\n",
       "      <th>4</th>\n",
       "      <td>Blount County</td>\n",
       "      <td>Alabama</td>\n",
       "      <td>AL</td>\n",
       "      <td>1009</td>\n",
       "      <td>55054</td>\n",
       "      <td>862</td>\n",
       "      <td>141</td>\n",
       "      <td>198</td>\n",
       "      <td>18</td>\n",
       "      <td>Blount County, AL</td>\n",
       "    </tr>\n",
       "  </tbody>\n",
       "</table>\n",
       "</div>"
      ],
      "text/plain": [
       "         GEO_NAME GEO_PARENT_NAME STABREV  FIPS_CODE  White alone_Total  \\\n",
       "0  Autauga County         Alabama      AL       1001              42437   \n",
       "1  Baldwin County         Alabama      AL       1003             179526   \n",
       "2  Barbour County         Alabama      AL       1005              12216   \n",
       "3     Bibb County         Alabama      AL       1007              17268   \n",
       "4   Blount County         Alabama      AL       1009              55054   \n",
       "\n",
       "   Black or African American alone_Total  \\\n",
       "0                                  10565   \n",
       "1                                  19764   \n",
       "2                                  12266   \n",
       "3                                   5018   \n",
       "4                                    862   \n",
       "\n",
       "   American Indian and Alaska Native alone_Total  Asian alone_Total  \\\n",
       "0                                            159                568   \n",
       "1                                           1522               1680   \n",
       "2                                             72                 96   \n",
       "3                                              8                 37   \n",
       "4                                            141                198   \n",
       "\n",
       "   Native Hawaiian and Other Pacific Islander alone_Total              ctname  \n",
       "0                                                 32       Autauga County, AL  \n",
       "1                                                  9       Baldwin County, AL  \n",
       "2                                                  1       Barbour County, AL  \n",
       "3                                                  0          Bibb County, AL  \n",
       "4                                                 18        Blount County, AL  "
      ]
     },
     "execution_count": 19,
     "metadata": {},
     "output_type": "execute_result"
    }
   ],
   "source": [
    "Race_Without_Puerto_Rico.head()"
   ]
  },
  {
   "cell_type": "code",
   "execution_count": 20,
   "metadata": {},
   "outputs": [],
   "source": [
    "Race_Without_Puerto_Rico.to_csv(\"race_with_PR.csv\")"
   ]
  },
  {
   "cell_type": "code",
   "execution_count": 21,
   "metadata": {},
   "outputs": [],
   "source": [
    "#Reading the Community Resilience DataSet\n",
    "Comm_Resil=pd.read_csv(\"cre-2018-a11.csv\")"
   ]
  },
  {
   "cell_type": "code",
   "execution_count": 22,
   "metadata": {},
   "outputs": [
    {
     "data": {
      "text/plain": [
       "(228594, 12)"
      ]
     },
     "execution_count": 22,
     "metadata": {},
     "output_type": "execute_result"
    }
   ],
   "source": [
    "#Finding out the number of rows and columns in the dataset\n",
    "Comm_Resil.shape"
   ]
  },
  {
   "cell_type": "code",
   "execution_count": 23,
   "metadata": {},
   "outputs": [
    {
     "data": {
      "text/plain": [
       "state          0\n",
       "county         0\n",
       "tract          0\n",
       "rfgrp          0\n",
       "prednum        0\n",
       "prednum_moe    0\n",
       "predrt         0\n",
       "predrt_moe     0\n",
       "stname         0\n",
       "STABREV        0\n",
       "ctname         0\n",
       "popuni         0\n",
       "dtype: int64"
      ]
     },
     "execution_count": 23,
     "metadata": {},
     "output_type": "execute_result"
    }
   ],
   "source": [
    "#Checking for null values in the Data\n",
    "Comm_Resil.isnull().sum()"
   ]
  },
  {
   "cell_type": "code",
   "execution_count": 24,
   "metadata": {},
   "outputs": [
    {
     "data": {
      "text/plain": [
       "Index(['state', 'county', 'tract', 'rfgrp', 'prednum', 'prednum_moe', 'predrt',\n",
       "       'predrt_moe', 'stname', 'STABREV', 'ctname', 'popuni'],\n",
       "      dtype='object')"
      ]
     },
     "execution_count": 24,
     "metadata": {},
     "output_type": "execute_result"
    }
   ],
   "source": [
    "#Variables in the dataset\n",
    "Comm_Resil.columns"
   ]
  },
  {
   "cell_type": "code",
   "execution_count": 25,
   "metadata": {},
   "outputs": [
    {
     "data": {
      "text/html": [
       "<div>\n",
       "<style scoped>\n",
       "    .dataframe tbody tr th:only-of-type {\n",
       "        vertical-align: middle;\n",
       "    }\n",
       "\n",
       "    .dataframe tbody tr th {\n",
       "        vertical-align: top;\n",
       "    }\n",
       "\n",
       "    .dataframe thead th {\n",
       "        text-align: right;\n",
       "    }\n",
       "</style>\n",
       "<table border=\"1\" class=\"dataframe\">\n",
       "  <thead>\n",
       "    <tr style=\"text-align: right;\">\n",
       "      <th></th>\n",
       "      <th>state</th>\n",
       "      <th>county</th>\n",
       "      <th>tract</th>\n",
       "      <th>rfgrp</th>\n",
       "      <th>prednum</th>\n",
       "      <th>prednum_moe</th>\n",
       "      <th>predrt</th>\n",
       "      <th>predrt_moe</th>\n",
       "      <th>stname</th>\n",
       "      <th>STABREV</th>\n",
       "      <th>ctname</th>\n",
       "      <th>popuni</th>\n",
       "    </tr>\n",
       "  </thead>\n",
       "  <tbody>\n",
       "    <tr>\n",
       "      <th>0</th>\n",
       "      <td>1</td>\n",
       "      <td>1</td>\n",
       "      <td>0</td>\n",
       "      <td>0RF</td>\n",
       "      <td>17545</td>\n",
       "      <td>4022.9</td>\n",
       "      <td>31.66</td>\n",
       "      <td>7.26</td>\n",
       "      <td>Alabama</td>\n",
       "      <td>AL</td>\n",
       "      <td>Autauga County, AL</td>\n",
       "      <td>55420</td>\n",
       "    </tr>\n",
       "    <tr>\n",
       "      <th>1</th>\n",
       "      <td>1</td>\n",
       "      <td>1</td>\n",
       "      <td>0</td>\n",
       "      <td>1-2RF</td>\n",
       "      <td>24796</td>\n",
       "      <td>4320.5</td>\n",
       "      <td>44.74</td>\n",
       "      <td>7.80</td>\n",
       "      <td>Alabama</td>\n",
       "      <td>AL</td>\n",
       "      <td>Autauga County, AL</td>\n",
       "      <td>55420</td>\n",
       "    </tr>\n",
       "    <tr>\n",
       "      <th>2</th>\n",
       "      <td>1</td>\n",
       "      <td>1</td>\n",
       "      <td>0</td>\n",
       "      <td>3PLRF</td>\n",
       "      <td>13079</td>\n",
       "      <td>3606.6</td>\n",
       "      <td>23.60</td>\n",
       "      <td>6.51</td>\n",
       "      <td>Alabama</td>\n",
       "      <td>AL</td>\n",
       "      <td>Autauga County, AL</td>\n",
       "      <td>55420</td>\n",
       "    </tr>\n",
       "    <tr>\n",
       "      <th>3</th>\n",
       "      <td>1</td>\n",
       "      <td>1</td>\n",
       "      <td>20100</td>\n",
       "      <td>0RF</td>\n",
       "      <td>495</td>\n",
       "      <td>170.7</td>\n",
       "      <td>25.77</td>\n",
       "      <td>8.89</td>\n",
       "      <td>Alabama</td>\n",
       "      <td>AL</td>\n",
       "      <td>Autauga County, AL</td>\n",
       "      <td>1921</td>\n",
       "    </tr>\n",
       "    <tr>\n",
       "      <th>4</th>\n",
       "      <td>1</td>\n",
       "      <td>1</td>\n",
       "      <td>20100</td>\n",
       "      <td>1-2RF</td>\n",
       "      <td>902</td>\n",
       "      <td>188.6</td>\n",
       "      <td>46.95</td>\n",
       "      <td>9.82</td>\n",
       "      <td>Alabama</td>\n",
       "      <td>AL</td>\n",
       "      <td>Autauga County, AL</td>\n",
       "      <td>1921</td>\n",
       "    </tr>\n",
       "  </tbody>\n",
       "</table>\n",
       "</div>"
      ],
      "text/plain": [
       "   state  county  tract  rfgrp  prednum  prednum_moe  predrt  predrt_moe  \\\n",
       "0      1       1      0    0RF    17545       4022.9   31.66        7.26   \n",
       "1      1       1      0  1-2RF    24796       4320.5   44.74        7.80   \n",
       "2      1       1      0  3PLRF    13079       3606.6   23.60        6.51   \n",
       "3      1       1  20100    0RF      495        170.7   25.77        8.89   \n",
       "4      1       1  20100  1-2RF      902        188.6   46.95        9.82   \n",
       "\n",
       "    stname STABREV              ctname  popuni  \n",
       "0  Alabama      AL  Autauga County, AL   55420  \n",
       "1  Alabama      AL  Autauga County, AL   55420  \n",
       "2  Alabama      AL  Autauga County, AL   55420  \n",
       "3  Alabama      AL  Autauga County, AL    1921  \n",
       "4  Alabama      AL  Autauga County, AL    1921  "
      ]
     },
     "execution_count": 25,
     "metadata": {},
     "output_type": "execute_result"
    }
   ],
   "source": [
    "Comm_Resil.head(5)"
   ]
  },
  {
   "cell_type": "code",
   "execution_count": 26,
   "metadata": {},
   "outputs": [
    {
     "data": {
      "text/plain": [
       "3142"
      ]
     },
     "execution_count": 26,
     "metadata": {},
     "output_type": "execute_result"
    }
   ],
   "source": [
    "len(Comm_Resil.ctname.unique())"
   ]
  },
  {
   "cell_type": "code",
   "execution_count": 27,
   "metadata": {},
   "outputs": [],
   "source": [
    "#Subsetting Data for O risk factors\n",
    "Zero_RF=Comm_Resil.loc[(Comm_Resil.tract==0)&(Comm_Resil.rfgrp=='0RF'),['ctname','predrt']]"
   ]
  },
  {
   "cell_type": "code",
   "execution_count": 28,
   "metadata": {},
   "outputs": [],
   "source": [
    "#Zero_RF.to_csv(\"Zero_RF.csv\")"
   ]
  },
  {
   "cell_type": "code",
   "execution_count": 29,
   "metadata": {},
   "outputs": [
    {
     "data": {
      "text/plain": [
       "(3142, 2)"
      ]
     },
     "execution_count": 29,
     "metadata": {},
     "output_type": "execute_result"
    }
   ],
   "source": [
    "Zero_RF.shape"
   ]
  },
  {
   "cell_type": "code",
   "execution_count": 30,
   "metadata": {},
   "outputs": [],
   "source": [
    "df1=pd.DataFrame(data=Zero_RF)"
   ]
  },
  {
   "cell_type": "code",
   "execution_count": 31,
   "metadata": {},
   "outputs": [
    {
     "data": {
      "text/plain": [
       "Index(['ctname', 'predrt'], dtype='object')"
      ]
     },
     "execution_count": 31,
     "metadata": {},
     "output_type": "execute_result"
    }
   ],
   "source": [
    "df1.columns"
   ]
  },
  {
   "cell_type": "code",
   "execution_count": 32,
   "metadata": {},
   "outputs": [
    {
     "data": {
      "text/html": [
       "<div>\n",
       "<style scoped>\n",
       "    .dataframe tbody tr th:only-of-type {\n",
       "        vertical-align: middle;\n",
       "    }\n",
       "\n",
       "    .dataframe tbody tr th {\n",
       "        vertical-align: top;\n",
       "    }\n",
       "\n",
       "    .dataframe thead th {\n",
       "        text-align: right;\n",
       "    }\n",
       "</style>\n",
       "<table border=\"1\" class=\"dataframe\">\n",
       "  <thead>\n",
       "    <tr style=\"text-align: right;\">\n",
       "      <th></th>\n",
       "      <th>ctname</th>\n",
       "      <th>predrt</th>\n",
       "    </tr>\n",
       "  </thead>\n",
       "  <tbody>\n",
       "    <tr>\n",
       "      <th>0</th>\n",
       "      <td>Autauga County, AL</td>\n",
       "      <td>31.66</td>\n",
       "    </tr>\n",
       "    <tr>\n",
       "      <th>39</th>\n",
       "      <td>Baldwin County, AL</td>\n",
       "      <td>29.84</td>\n",
       "    </tr>\n",
       "    <tr>\n",
       "      <th>138</th>\n",
       "      <td>Barbour County, AL</td>\n",
       "      <td>18.70</td>\n",
       "    </tr>\n",
       "    <tr>\n",
       "      <th>168</th>\n",
       "      <td>Bibb County, AL</td>\n",
       "      <td>24.58</td>\n",
       "    </tr>\n",
       "    <tr>\n",
       "      <th>183</th>\n",
       "      <td>Blount County, AL</td>\n",
       "      <td>28.96</td>\n",
       "    </tr>\n",
       "  </tbody>\n",
       "</table>\n",
       "</div>"
      ],
      "text/plain": [
       "                 ctname  predrt\n",
       "0    Autauga County, AL   31.66\n",
       "39   Baldwin County, AL   29.84\n",
       "138  Barbour County, AL   18.70\n",
       "168     Bibb County, AL   24.58\n",
       "183   Blount County, AL   28.96"
      ]
     },
     "execution_count": 32,
     "metadata": {},
     "output_type": "execute_result"
    }
   ],
   "source": [
    "df1.head()"
   ]
  },
  {
   "cell_type": "code",
   "execution_count": 33,
   "metadata": {},
   "outputs": [],
   "source": [
    "#Subsetting the Data for 1-2 Risk factors\n",
    "one_two_RF=Comm_Resil.loc[(Comm_Resil.tract==0)&(Comm_Resil.rfgrp=='1-2RF'),['ctname','predrt']]"
   ]
  },
  {
   "cell_type": "code",
   "execution_count": 34,
   "metadata": {},
   "outputs": [
    {
     "data": {
      "text/plain": [
       "(3142, 2)"
      ]
     },
     "execution_count": 34,
     "metadata": {},
     "output_type": "execute_result"
    }
   ],
   "source": [
    "one_two_RF.shape"
   ]
  },
  {
   "cell_type": "code",
   "execution_count": 35,
   "metadata": {},
   "outputs": [],
   "source": [
    "#renaming the column\n",
    "one_two_RF=one_two_RF.rename(columns={\"predrt\": \"Predrt_1_2\"})"
   ]
  },
  {
   "cell_type": "code",
   "execution_count": 36,
   "metadata": {},
   "outputs": [],
   "source": [
    "df2=pd.DataFrame(data=one_two_RF)"
   ]
  },
  {
   "cell_type": "code",
   "execution_count": 37,
   "metadata": {},
   "outputs": [
    {
     "data": {
      "text/plain": [
       "Index(['ctname', 'Predrt_1_2'], dtype='object')"
      ]
     },
     "execution_count": 37,
     "metadata": {},
     "output_type": "execute_result"
    }
   ],
   "source": [
    "df2.columns"
   ]
  },
  {
   "cell_type": "code",
   "execution_count": 38,
   "metadata": {},
   "outputs": [
    {
     "data": {
      "text/html": [
       "<div>\n",
       "<style scoped>\n",
       "    .dataframe tbody tr th:only-of-type {\n",
       "        vertical-align: middle;\n",
       "    }\n",
       "\n",
       "    .dataframe tbody tr th {\n",
       "        vertical-align: top;\n",
       "    }\n",
       "\n",
       "    .dataframe thead th {\n",
       "        text-align: right;\n",
       "    }\n",
       "</style>\n",
       "<table border=\"1\" class=\"dataframe\">\n",
       "  <thead>\n",
       "    <tr style=\"text-align: right;\">\n",
       "      <th></th>\n",
       "      <th>ctname</th>\n",
       "      <th>Predrt_1_2</th>\n",
       "    </tr>\n",
       "  </thead>\n",
       "  <tbody>\n",
       "    <tr>\n",
       "      <th>1</th>\n",
       "      <td>Autauga County, AL</td>\n",
       "      <td>44.74</td>\n",
       "    </tr>\n",
       "    <tr>\n",
       "      <th>40</th>\n",
       "      <td>Baldwin County, AL</td>\n",
       "      <td>45.44</td>\n",
       "    </tr>\n",
       "    <tr>\n",
       "      <th>139</th>\n",
       "      <td>Barbour County, AL</td>\n",
       "      <td>46.19</td>\n",
       "    </tr>\n",
       "    <tr>\n",
       "      <th>169</th>\n",
       "      <td>Bibb County, AL</td>\n",
       "      <td>46.77</td>\n",
       "    </tr>\n",
       "    <tr>\n",
       "      <th>184</th>\n",
       "      <td>Blount County, AL</td>\n",
       "      <td>43.45</td>\n",
       "    </tr>\n",
       "  </tbody>\n",
       "</table>\n",
       "</div>"
      ],
      "text/plain": [
       "                 ctname  Predrt_1_2\n",
       "1    Autauga County, AL       44.74\n",
       "40   Baldwin County, AL       45.44\n",
       "139  Barbour County, AL       46.19\n",
       "169     Bibb County, AL       46.77\n",
       "184   Blount County, AL       43.45"
      ]
     },
     "execution_count": 38,
     "metadata": {},
     "output_type": "execute_result"
    }
   ],
   "source": [
    "df2.head()"
   ]
  },
  {
   "cell_type": "code",
   "execution_count": 39,
   "metadata": {},
   "outputs": [
    {
     "data": {
      "text/plain": [
       "(3142, 2)"
      ]
     },
     "execution_count": 39,
     "metadata": {},
     "output_type": "execute_result"
    }
   ],
   "source": [
    "df1.shape"
   ]
  },
  {
   "cell_type": "code",
   "execution_count": 40,
   "metadata": {},
   "outputs": [],
   "source": [
    "#one_two_RF.to_csv(\"One_two_RF.csv\")"
   ]
  },
  {
   "cell_type": "code",
   "execution_count": 41,
   "metadata": {},
   "outputs": [],
   "source": [
    "#subsetting the data for 3 plus risk factor group\n",
    "three_plus_RF=Comm_Resil.loc[(Comm_Resil.tract==0)&(Comm_Resil.rfgrp=='3PLRF'),['ctname','predrt']]"
   ]
  },
  {
   "cell_type": "code",
   "execution_count": 42,
   "metadata": {},
   "outputs": [
    {
     "data": {
      "text/plain": [
       "(3142, 2)"
      ]
     },
     "execution_count": 42,
     "metadata": {},
     "output_type": "execute_result"
    }
   ],
   "source": [
    "three_plus_RF.shape"
   ]
  },
  {
   "cell_type": "code",
   "execution_count": 43,
   "metadata": {},
   "outputs": [],
   "source": [
    "df3=pd.DataFrame(data=three_plus_RF)"
   ]
  },
  {
   "cell_type": "code",
   "execution_count": 44,
   "metadata": {},
   "outputs": [
    {
     "data": {
      "text/html": [
       "<div>\n",
       "<style scoped>\n",
       "    .dataframe tbody tr th:only-of-type {\n",
       "        vertical-align: middle;\n",
       "    }\n",
       "\n",
       "    .dataframe tbody tr th {\n",
       "        vertical-align: top;\n",
       "    }\n",
       "\n",
       "    .dataframe thead th {\n",
       "        text-align: right;\n",
       "    }\n",
       "</style>\n",
       "<table border=\"1\" class=\"dataframe\">\n",
       "  <thead>\n",
       "    <tr style=\"text-align: right;\">\n",
       "      <th></th>\n",
       "      <th>ctname</th>\n",
       "      <th>predrt</th>\n",
       "    </tr>\n",
       "  </thead>\n",
       "  <tbody>\n",
       "    <tr>\n",
       "      <th>2</th>\n",
       "      <td>Autauga County, AL</td>\n",
       "      <td>23.60</td>\n",
       "    </tr>\n",
       "    <tr>\n",
       "      <th>41</th>\n",
       "      <td>Baldwin County, AL</td>\n",
       "      <td>24.72</td>\n",
       "    </tr>\n",
       "    <tr>\n",
       "      <th>140</th>\n",
       "      <td>Barbour County, AL</td>\n",
       "      <td>35.11</td>\n",
       "    </tr>\n",
       "    <tr>\n",
       "      <th>170</th>\n",
       "      <td>Bibb County, AL</td>\n",
       "      <td>28.64</td>\n",
       "    </tr>\n",
       "    <tr>\n",
       "      <th>185</th>\n",
       "      <td>Blount County, AL</td>\n",
       "      <td>27.59</td>\n",
       "    </tr>\n",
       "  </tbody>\n",
       "</table>\n",
       "</div>"
      ],
      "text/plain": [
       "                 ctname  predrt\n",
       "2    Autauga County, AL   23.60\n",
       "41   Baldwin County, AL   24.72\n",
       "140  Barbour County, AL   35.11\n",
       "170     Bibb County, AL   28.64\n",
       "185   Blount County, AL   27.59"
      ]
     },
     "execution_count": 44,
     "metadata": {},
     "output_type": "execute_result"
    }
   ],
   "source": [
    "df3.head()"
   ]
  },
  {
   "cell_type": "code",
   "execution_count": 45,
   "metadata": {},
   "outputs": [],
   "source": [
    "df3=df3.rename(columns={\"predrt\": \"Predrt_1_2_3\"})"
   ]
  },
  {
   "cell_type": "code",
   "execution_count": 46,
   "metadata": {},
   "outputs": [],
   "source": [
    "#Joining the data for 0 risk factor and 1-2 risk factor\n",
    "df_1_2=df1.join(df2.set_index('ctname'), on='ctname')"
   ]
  },
  {
   "cell_type": "code",
   "execution_count": 47,
   "metadata": {},
   "outputs": [
    {
     "data": {
      "text/plain": [
       "3142"
      ]
     },
     "execution_count": 47,
     "metadata": {},
     "output_type": "execute_result"
    }
   ],
   "source": [
    "len(df_1_2.ctname.unique())"
   ]
  },
  {
   "cell_type": "code",
   "execution_count": 48,
   "metadata": {},
   "outputs": [],
   "source": [
    "#Joining data for all risk factors\n",
    "df_1_2_3=df_1_2.join(df3.set_index('ctname'), on='ctname')"
   ]
  },
  {
   "cell_type": "code",
   "execution_count": 49,
   "metadata": {},
   "outputs": [
    {
     "data": {
      "text/html": [
       "<div>\n",
       "<style scoped>\n",
       "    .dataframe tbody tr th:only-of-type {\n",
       "        vertical-align: middle;\n",
       "    }\n",
       "\n",
       "    .dataframe tbody tr th {\n",
       "        vertical-align: top;\n",
       "    }\n",
       "\n",
       "    .dataframe thead th {\n",
       "        text-align: right;\n",
       "    }\n",
       "</style>\n",
       "<table border=\"1\" class=\"dataframe\">\n",
       "  <thead>\n",
       "    <tr style=\"text-align: right;\">\n",
       "      <th></th>\n",
       "      <th>ctname</th>\n",
       "      <th>predrt</th>\n",
       "      <th>Predrt_1_2</th>\n",
       "      <th>Predrt_1_2_3</th>\n",
       "    </tr>\n",
       "  </thead>\n",
       "  <tbody>\n",
       "    <tr>\n",
       "      <th>0</th>\n",
       "      <td>Autauga County, AL</td>\n",
       "      <td>31.66</td>\n",
       "      <td>44.74</td>\n",
       "      <td>23.60</td>\n",
       "    </tr>\n",
       "    <tr>\n",
       "      <th>39</th>\n",
       "      <td>Baldwin County, AL</td>\n",
       "      <td>29.84</td>\n",
       "      <td>45.44</td>\n",
       "      <td>24.72</td>\n",
       "    </tr>\n",
       "    <tr>\n",
       "      <th>138</th>\n",
       "      <td>Barbour County, AL</td>\n",
       "      <td>18.70</td>\n",
       "      <td>46.19</td>\n",
       "      <td>35.11</td>\n",
       "    </tr>\n",
       "    <tr>\n",
       "      <th>168</th>\n",
       "      <td>Bibb County, AL</td>\n",
       "      <td>24.58</td>\n",
       "      <td>46.77</td>\n",
       "      <td>28.64</td>\n",
       "    </tr>\n",
       "    <tr>\n",
       "      <th>183</th>\n",
       "      <td>Blount County, AL</td>\n",
       "      <td>28.96</td>\n",
       "      <td>43.45</td>\n",
       "      <td>27.59</td>\n",
       "    </tr>\n",
       "  </tbody>\n",
       "</table>\n",
       "</div>"
      ],
      "text/plain": [
       "                 ctname  predrt  Predrt_1_2  Predrt_1_2_3\n",
       "0    Autauga County, AL   31.66       44.74         23.60\n",
       "39   Baldwin County, AL   29.84       45.44         24.72\n",
       "138  Barbour County, AL   18.70       46.19         35.11\n",
       "168     Bibb County, AL   24.58       46.77         28.64\n",
       "183   Blount County, AL   28.96       43.45         27.59"
      ]
     },
     "execution_count": 49,
     "metadata": {},
     "output_type": "execute_result"
    }
   ],
   "source": [
    "df_1_2_3.head()"
   ]
  },
  {
   "cell_type": "markdown",
   "metadata": {},
   "source": []
  },
  {
   "cell_type": "markdown",
   "metadata": {},
   "source": [
    "Final Join on the Data"
   ]
  },
  {
   "cell_type": "code",
   "execution_count": 50,
   "metadata": {},
   "outputs": [],
   "source": [
    "#Final Data frame with all specified columns\n",
    "final_dataframe=df_1_2_3.join(Race_Without_Puerto_Rico.set_index('ctname'), on='ctname')"
   ]
  },
  {
   "cell_type": "code",
   "execution_count": 51,
   "metadata": {},
   "outputs": [
    {
     "data": {
      "text/plain": [
       "Index(['ctname', 'predrt', 'Predrt_1_2', 'Predrt_1_2_3', 'GEO_NAME',\n",
       "       'GEO_PARENT_NAME', 'STABREV', 'FIPS_CODE', 'White alone_Total',\n",
       "       'Black or African American alone_Total',\n",
       "       'American Indian and Alaska Native alone_Total', 'Asian alone_Total',\n",
       "       'Native Hawaiian and Other Pacific Islander alone_Total'],\n",
       "      dtype='object')"
      ]
     },
     "execution_count": 51,
     "metadata": {},
     "output_type": "execute_result"
    }
   ],
   "source": [
    "final_dataframe.columns"
   ]
  },
  {
   "cell_type": "code",
   "execution_count": 52,
   "metadata": {},
   "outputs": [
    {
     "data": {
      "text/plain": [
       "(3142, 13)"
      ]
     },
     "execution_count": 52,
     "metadata": {},
     "output_type": "execute_result"
    }
   ],
   "source": [
    "final_dataframe.shape"
   ]
  },
  {
   "cell_type": "code",
   "execution_count": 53,
   "metadata": {},
   "outputs": [],
   "source": [
    "final_dataframe=final_dataframe.drop(['STABREV'],axis=1)"
   ]
  },
  {
   "cell_type": "code",
   "execution_count": 54,
   "metadata": {},
   "outputs": [],
   "source": [
    "#Writing the data with piped delimeters\n",
    "final_dataframe.to_csv(\"Final.csv\",sep='|')"
   ]
  }
 ],
 "metadata": {
  "kernelspec": {
   "display_name": "Python 3",
   "language": "python",
   "name": "python3"
  },
  "language_info": {
   "codemirror_mode": {
    "name": "ipython",
    "version": 3
   },
   "file_extension": ".py",
   "mimetype": "text/x-python",
   "name": "python",
   "nbconvert_exporter": "python",
   "pygments_lexer": "ipython3",
   "version": "3.8.3"
  }
 },
 "nbformat": 4,
 "nbformat_minor": 4
}
